{
 "cells": [
  {
   "cell_type": "markdown",
   "id": "c06ea8aa",
   "metadata": {},
   "source": [
    "# Задача 1 \n",
    "\n",
    "Напишите функцию factorial, которая принимает положительное целое число n и возвращает его факториал. Для решения задачи используйте рекурсию"
   ]
  },
  {
   "cell_type": "code",
   "execution_count": 6,
   "id": "ee1a15da",
   "metadata": {},
   "outputs": [
    {
     "data": {
      "text/plain": [
       "5040"
      ]
     },
     "execution_count": 6,
     "metadata": {},
     "output_type": "execute_result"
    }
   ],
   "source": [
    "def factorial(n): \n",
    "    if n == 1: \n",
    "        return 1\n",
    "    return n*factorial(n-1)\n",
    "\n",
    "factorial(7)"
   ]
  },
  {
   "cell_type": "markdown",
   "id": "a6486dd9",
   "metadata": {},
   "source": [
    "# Задача 2\n",
    "\n",
    "Напишите функцию is_prime, которая принимает целое число n и возвращает True, если число является простым, и False в противном случае.\n",
    "\n"
   ]
  },
  {
   "cell_type": "code",
   "execution_count": 38,
   "id": "fcf203b9",
   "metadata": {},
   "outputs": [
    {
     "data": {
      "text/plain": [
       "True"
      ]
     },
     "execution_count": 38,
     "metadata": {},
     "output_type": "execute_result"
    }
   ],
   "source": [
    "def is_prime(n):\n",
    "    if n < 2:\n",
    "        return False\n",
    "    else:\n",
    "        numbers = list(map(lambda x: x, range(2, int(n))))\n",
    "        divisors = list(filter(lambda x: n % x == 0, numbers))\n",
    "        return len(divisors) == 0"
   ]
  },
  {
   "cell_type": "markdown",
   "id": "c0d3380c",
   "metadata": {},
   "source": [
    "# Задача 3 \n",
    "\n",
    "Напишите функцию filter_odd, которая принимает список целых чисел и возвращает новый список, содержащий только нечетные числа.\n",
    "\n"
   ]
  },
  {
   "cell_type": "code",
   "execution_count": 47,
   "id": "0b778872",
   "metadata": {},
   "outputs": [
    {
     "data": {
      "text/plain": [
       "[5, 7, 9, 11, 13, 15]"
      ]
     },
     "execution_count": 47,
     "metadata": {},
     "output_type": "execute_result"
    }
   ],
   "source": [
    "def filter_odd(lists):\n",
    "    return list(filter(lambda x: x % 2 != 0, lists))\n",
    "                \n",
    "                \n",
    "lists = [5,6,7,8,9,10,11,12,13,14,15,16]                \n",
    "filter_odd(lists)"
   ]
  },
  {
   "cell_type": "markdown",
   "id": "b214dc82",
   "metadata": {},
   "source": [
    "# Задача 4 \n",
    "\n",
    "Напишите функцию map_square, которая принимает список чисел и возвращает новый список, содержащий квадраты этих чисел.\n"
   ]
  },
  {
   "cell_type": "code",
   "execution_count": 108,
   "id": "e41cac85",
   "metadata": {},
   "outputs": [
    {
     "name": "stdout",
     "output_type": "stream",
     "text": [
      "[100, 225, 169, 196]\n"
     ]
    }
   ],
   "source": [
    "def map_square(lists):\n",
    "    return list(map(lambda x: x**2,lists))\n",
    "\n",
    "lists = [10,15,13,14]\n",
    "\n",
    "print(map_square(lists))"
   ]
  },
  {
   "cell_type": "markdown",
   "id": "d31fe029",
   "metadata": {},
   "source": [
    "# Задача 5 \n",
    "\n",
    "Напишите функцию reduce_sum, которая принимает список чисел и возвращает сумму этих чисел.\n",
    "\n",
    "Для решения задачи используйте функцию reduce из модуля functools и lambda-функцию.\n"
   ]
  },
  {
   "cell_type": "code",
   "execution_count": 112,
   "id": "4561d19d",
   "metadata": {},
   "outputs": [
    {
     "name": "stdout",
     "output_type": "stream",
     "text": [
      "70\n"
     ]
    }
   ],
   "source": [
    "from functools import reduce\n",
    "\n",
    "def reduce_sum(lists):\n",
    "    return reduce(lambda x,y: x+y, lists)\n",
    "\n",
    "print(reduce_sum([10,15,20,25]))"
   ]
  },
  {
   "cell_type": "markdown",
   "id": "b25462b1",
   "metadata": {},
   "source": [
    "# Задача 6 \n",
    "\n",
    "Напишите функцию partial_apply, которая принимает на вход функцию func с двумя аргументами и возвращает новую функцию partial_func, которая является частичным применением первоначальной функции func с одним аргументом.\n",
    "\n"
   ]
  },
  {
   "cell_type": "code",
   "execution_count": 63,
   "id": "ed91cf51",
   "metadata": {},
   "outputs": [],
   "source": [
    "def partial_apply(func):\n",
    "    def partial_func(arg1):\n",
    "        def inner_func(arg2):\n",
    "            return func(arg1, arg2)\n",
    "        return inner_func\n",
    "    return partial_func"
   ]
  },
  {
   "cell_type": "markdown",
   "id": "e5ff25fb",
   "metadata": {},
   "source": [
    "# Задача 7\n",
    "\n",
    "Напишите функцию compose, которая принимает на вход две функции f и g и возвращает новую функцию h, которая является композицией этих двух функций."
   ]
  },
  {
   "cell_type": "code",
   "execution_count": 81,
   "id": "01970067",
   "metadata": {},
   "outputs": [
    {
     "name": "stdout",
     "output_type": "stream",
     "text": [
      "64\n"
     ]
    }
   ],
   "source": [
    "def compose(f,g):\n",
    "    def h(arg):\n",
    "        return(f(g(arg)))\n",
    "    return h \n",
    "\n",
    "def f(x):\n",
    "    return x**2\n",
    "    \n",
    "def g(x):\n",
    "    return x+5\n",
    "    \n",
    "print(compose(f,g)(3))"
   ]
  },
  {
   "cell_type": "markdown",
   "id": "2ea1d551",
   "metadata": {},
   "source": [
    "# Задача 8 \n",
    "\n",
    "Напишите функцию create_function_with_arguments, которая принимает на вход функцию func и список arguments, и возвращает новую функцию new_func. При вызове new_func она вызывает func с переданными аргументами arguments и возвращает результат.\n",
    "\n"
   ]
  },
  {
   "cell_type": "code",
   "execution_count": 93,
   "id": "00779f55",
   "metadata": {},
   "outputs": [],
   "source": [
    "def create_function_with_arguments(func,arguments):\n",
    "    def new_func():\n",
    "        return func(*arguments)\n",
    "    return new_func\n"
   ]
  },
  {
   "cell_type": "markdown",
   "id": "44aad5db",
   "metadata": {},
   "source": [
    "# Задача 9 \n",
    "\n",
    "Напишите функцию compose_functions, которая принимает список функций functions и возвращает новую функцию composed_function. При вызове composed_function она последовательно применяет все функции из списка functions к переданному аргументу и возвращает результат.\n",
    "\n"
   ]
  },
  {
   "cell_type": "code",
   "execution_count": 110,
   "id": "d70f9c12",
   "metadata": {},
   "outputs": [
    {
     "data": {
      "text/plain": [
       "49"
      ]
     },
     "execution_count": 110,
     "metadata": {},
     "output_type": "execute_result"
    }
   ],
   "source": [
    "def compose_functions(functions):\n",
    "    def composed_function(arg):\n",
    "        return reduce(lambda a,b : b(a), functions, arg)\n",
    "    return composed_function\n",
    "\n",
    "def f(x):\n",
    "    return x+4\n",
    "def g(x):\n",
    "    return x+1\n",
    "def h(x):\n",
    "    return x**2\n",
    "    \n",
    "compose_functions([f,g,h])(2)"
   ]
  }
 ],
 "metadata": {
  "kernelspec": {
   "display_name": "Python 3 (ipykernel)",
   "language": "python",
   "name": "python3"
  },
  "language_info": {
   "codemirror_mode": {
    "name": "ipython",
    "version": 3
   },
   "file_extension": ".py",
   "mimetype": "text/x-python",
   "name": "python",
   "nbconvert_exporter": "python",
   "pygments_lexer": "ipython3",
   "version": "3.9.13"
  }
 },
 "nbformat": 4,
 "nbformat_minor": 5
}
