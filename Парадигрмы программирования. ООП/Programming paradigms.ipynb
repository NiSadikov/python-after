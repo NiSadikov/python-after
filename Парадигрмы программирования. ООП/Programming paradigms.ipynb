{
 "cells": [
  {
   "cell_type": "markdown",
   "id": "69ca96dc",
   "metadata": {},
   "source": [
    "# Задача 1\n",
    "\n",
    "Для каждого куска кода выберите одну из следующих парадигм:\n",
    "\n",
    "1) императивное программирование  \n",
    "2) объектно-ориентированное программирование  \n",
    "3) функциональное программирование  \n",
    "\n",
    "Обоснуйте свой выбор для каждого куска кода, пояснив, какие особенности и паттерны присутствуют в каждом из них. В ответе укажите последовательность из цифр 1, 2 и 3, соответствующую выбранным парадигмам для каждого куска кода.\n",
    "\n"
   ]
  },
  {
   "cell_type": "code",
   "execution_count": 65,
   "id": "50371c84",
   "metadata": {},
   "outputs": [
    {
     "name": "stdout",
     "output_type": "stream",
     "text": [
      "Sum of squares: 55\n"
     ]
    }
   ],
   "source": [
    "class NumberList:\n",
    "    def __init__(self, numbers):\n",
    "        self.numbers = numbers\n",
    "\n",
    "    def sum_of_squares(self):\n",
    "        result = 0\n",
    "        for num in self.numbers:\n",
    "            result += num ** 2\n",
    "        return result\n",
    "\n",
    "numbers = [1, 2, 3, 4, 5]\n",
    "number_list = NumberList(numbers)\n",
    "total = number_list.sum_of_squares()\n",
    "print(f\"Sum of squares: {total}\")\n",
    "\n"
   ]
  },
  {
   "cell_type": "code",
   "execution_count": 66,
   "id": "8db66d33",
   "metadata": {},
   "outputs": [
    {
     "name": "stdout",
     "output_type": "stream",
     "text": [
      "Sum of squares: 55\n"
     ]
    }
   ],
   "source": [
    "def sum_of_squares(numbers):\n",
    "    squared_nums = map(lambda x: x ** 2, numbers)\n",
    "    return sum(squared_nums)\n",
    "\n",
    "numbers = [1, 2, 3, 4, 5]\n",
    "total = sum_of_squares(numbers)\n",
    "print(f\"Sum of squares: {total}\")"
   ]
  },
  {
   "cell_type": "code",
   "execution_count": 67,
   "id": "241783e0",
   "metadata": {},
   "outputs": [
    {
     "name": "stdout",
     "output_type": "stream",
     "text": [
      "Sum of squares: 55\n"
     ]
    }
   ],
   "source": [
    "def sum_of_squares(numbers):\n",
    "    result = 0\n",
    "    for num in numbers:\n",
    "        result += num ** 2\n",
    "    return result\n",
    "\n",
    "numbers = [1, 2, 3, 4, 5]\n",
    "total = sum_of_squares(numbers)\n",
    "print(f\"Sum of squares: {total}\")"
   ]
  },
  {
   "cell_type": "markdown",
   "id": "8e4daaca",
   "metadata": {},
   "source": [
    "Проведем следующие рассуждения: \n",
    "\n",
    "В первом случае код оперирует такими понятиями, как класс, что характерно для объектно-ориентированного программирования. \n",
    "\n",
    "Во втором случае мы видим использование таких понятий, как lambda-функция, а это, как известно, паттерн функционального программирования. \n",
    "\n",
    "В третьем случае мы видим использованием функции, но с применением цикла для получения необхдимого результата. "
   ]
  },
  {
   "cell_type": "markdown",
   "id": "5e04513b",
   "metadata": {},
   "source": [
    "# Задача 2\n",
    "\n",
    "Используя парадигму функционального программирования, напишите функцию sum_even_numbers(numbers), которая принимает список чисел и возвращает сумму всех четных чисел в списке. В ответ укажите результат функции при numbers = [14, 93, 19, 38, 18, 51, 77]."
   ]
  },
  {
   "cell_type": "code",
   "execution_count": 81,
   "id": "bd89c8f9",
   "metadata": {},
   "outputs": [
    {
     "name": "stdout",
     "output_type": "stream",
     "text": [
      "70\n"
     ]
    }
   ],
   "source": [
    "def sum_even_numbers(numbers):\n",
    "    even_numbers = filter(lambda x: x % 2 == 0, numbers) \n",
    "    return sum(even_numbers)\n",
    "\n",
    "numbers = [14, 93, 19, 38, 18, 51, 77]\n",
    "\n",
    "print(sum_even_numbers(numbers))"
   ]
  },
  {
   "cell_type": "markdown",
   "id": "cd07ff38",
   "metadata": {},
   "source": [
    "# Задача 3 \n",
    "\n",
    "Используя парадигму императивного программирования, напишите функцию sum_even_numbers(numbers), которая принимает список чисел и возвращает сумму всех четных чисел в списке. В ответ укажите результат функции при numbers = [60, 84, 9, 49, 7, 85, 38].\n",
    "\n"
   ]
  },
  {
   "cell_type": "code",
   "execution_count": 89,
   "id": "f00e83a4",
   "metadata": {},
   "outputs": [
    {
     "name": "stdout",
     "output_type": "stream",
     "text": [
      "182\n"
     ]
    }
   ],
   "source": [
    "class numberss: \n",
    "    def __init__(self,nubmers):\n",
    "        self.numbers = numbers\n",
    "        \n",
    "    def sum_even_numbers(self):\n",
    "        s = 0\n",
    "        for number in self.numbers: \n",
    "            if number % 2 == 0: \n",
    "                s += number\n",
    "        return s \n",
    "    \n",
    "numbers = [60, 84, 9, 49, 7, 85, 38]\n",
    "numbers_list = numberss(numbers)\n",
    "print(numbers_list.sum_even_numbers())"
   ]
  }
 ],
 "metadata": {
  "kernelspec": {
   "display_name": "Python 3 (ipykernel)",
   "language": "python",
   "name": "python3"
  },
  "language_info": {
   "codemirror_mode": {
    "name": "ipython",
    "version": 3
   },
   "file_extension": ".py",
   "mimetype": "text/x-python",
   "name": "python",
   "nbconvert_exporter": "python",
   "pygments_lexer": "ipython3",
   "version": "3.9.13"
  }
 },
 "nbformat": 4,
 "nbformat_minor": 5
}
