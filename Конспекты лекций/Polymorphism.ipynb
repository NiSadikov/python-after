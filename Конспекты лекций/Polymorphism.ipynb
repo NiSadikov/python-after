{
 "cells": [
  {
   "cell_type": "code",
   "execution_count": 1,
   "id": "7fab4bc3",
   "metadata": {},
   "outputs": [],
   "source": [
    "class Square:\n",
    "    \n",
    "    def __init__(self,h):\n",
    "        self.h = h\n",
    "    \n",
    "    def sq_area(self):\n",
    "        return self.h ** 2 \n",
    "        \n",
    "class Rectangle:\n",
    "    \n",
    "    def __init__(self,h,w):\n",
    "        self.h = h \n",
    "        self.w = w \n",
    "        \n",
    "    def rect_area(self):\n",
    "        return selh.h * selh.w\n",
    "    \n",
    "\n",
    "# Демонстрация проблемы такого подхода: \n",
    "\n",
    "figures = [v,p]\n",
    "for figure in figures:\n",
    "    print(figure.(?))"
   ]
  },
  {
   "cell_type": "code",
   "execution_count": 13,
   "id": "bdcd0fcf",
   "metadata": {},
   "outputs": [
    {
     "name": "stdout",
     "output_type": "stream",
     "text": [
      "25\n",
      "21\n",
      "Отработала area из родительского класса\n",
      "-1000\n"
     ]
    }
   ],
   "source": [
    "class Figure:\n",
    "    def area(self):\n",
    "        print('Отработала area из родительского класса')\n",
    "        return -1000\n",
    "\n",
    "\n",
    "class Square:\n",
    "    \n",
    "    def __init__(self,h):\n",
    "        self.h = h\n",
    "    \n",
    "    def area(self):\n",
    "        return self.h ** 2 \n",
    "        \n",
    "class Rectangle:\n",
    "    \n",
    "    def __init__(self,h,w):\n",
    "        self.h = h \n",
    "        self.w = w \n",
    "        \n",
    "    def area(self):\n",
    "        return self.h * self.w\n",
    "    \n",
    "class Triangle(Figure):\n",
    "    def __init__(self,h,base):\n",
    "        self.h = h \n",
    "        self.base = base\n",
    "\n",
    "figures = [Square(5),Rectangle(3,7),Triangle(10,100)]\n",
    "\n",
    "for figure in figures:\n",
    "    print(figure.area())"
   ]
  },
  {
   "cell_type": "code",
   "execution_count": 14,
   "id": "c003d497",
   "metadata": {},
   "outputs": [
    {
     "name": "stdout",
     "output_type": "stream",
     "text": [
      "25\n",
      "21\n",
      "500.0\n"
     ]
    }
   ],
   "source": [
    "class Figure:\n",
    "    def area(self):\n",
    "        print('Отработала area из родительского класса')\n",
    "        return -1000\n",
    "\n",
    "\n",
    "class Square:\n",
    "    \n",
    "    def __init__(self,h):\n",
    "        self.h = h\n",
    "    \n",
    "    def area(self):\n",
    "        return self.h ** 2 \n",
    "        \n",
    "class Rectangle:\n",
    "    \n",
    "    def __init__(self,h,w):\n",
    "        self.h = h \n",
    "        self.w = w \n",
    "        \n",
    "    def area(self):\n",
    "        return self.h * self.w\n",
    "    \n",
    "class Triangle(Figure):\n",
    "    def __init__(self,h,base):\n",
    "        self.h = h \n",
    "        self.base = base\n",
    "        \n",
    "    def area(self):\n",
    "        return self.h * self.base * 0.5\n",
    "\n",
    "figures = [Square(5),Rectangle(3,7),Triangle(10,100)]\n",
    "\n",
    "for figure in figures:\n",
    "    print(figure.area())"
   ]
  },
  {
   "cell_type": "code",
   "execution_count": 15,
   "id": "fc043c0e",
   "metadata": {},
   "outputs": [
    {
     "name": "stdout",
     "output_type": "stream",
     "text": [
      "25\n",
      "21\n"
     ]
    },
    {
     "ename": "NotImplementedError",
     "evalue": "Вызвана функция из дочернего класса, которая там не реализована",
     "output_type": "error",
     "traceback": [
      "\u001b[1;31m---------------------------------------------------------------------------\u001b[0m",
      "\u001b[1;31mNotImplementedError\u001b[0m                       Traceback (most recent call last)",
      "\u001b[1;32m~\\AppData\\Local\\Temp\\ipykernel_1688\\3205541225.py\u001b[0m in \u001b[0;36m<module>\u001b[1;34m\u001b[0m\n\u001b[0;32m     32\u001b[0m \u001b[1;33m\u001b[0m\u001b[0m\n\u001b[0;32m     33\u001b[0m \u001b[1;32mfor\u001b[0m \u001b[0mfigure\u001b[0m \u001b[1;32min\u001b[0m \u001b[0mfigures\u001b[0m\u001b[1;33m:\u001b[0m\u001b[1;33m\u001b[0m\u001b[1;33m\u001b[0m\u001b[0m\n\u001b[1;32m---> 34\u001b[1;33m     \u001b[0mprint\u001b[0m\u001b[1;33m(\u001b[0m\u001b[0mfigure\u001b[0m\u001b[1;33m.\u001b[0m\u001b[0marea\u001b[0m\u001b[1;33m(\u001b[0m\u001b[1;33m)\u001b[0m\u001b[1;33m)\u001b[0m\u001b[1;33m\u001b[0m\u001b[1;33m\u001b[0m\u001b[0m\n\u001b[0m",
      "\u001b[1;32m~\\AppData\\Local\\Temp\\ipykernel_1688\\3205541225.py\u001b[0m in \u001b[0;36marea\u001b[1;34m(self)\u001b[0m\n\u001b[0;32m      1\u001b[0m \u001b[1;32mclass\u001b[0m \u001b[0mFigure\u001b[0m\u001b[1;33m:\u001b[0m\u001b[1;33m\u001b[0m\u001b[1;33m\u001b[0m\u001b[0m\n\u001b[0;32m      2\u001b[0m     \u001b[1;32mdef\u001b[0m \u001b[0marea\u001b[0m\u001b[1;33m(\u001b[0m\u001b[0mself\u001b[0m\u001b[1;33m)\u001b[0m\u001b[1;33m:\u001b[0m\u001b[1;33m\u001b[0m\u001b[1;33m\u001b[0m\u001b[0m\n\u001b[1;32m----> 3\u001b[1;33m         \u001b[1;32mraise\u001b[0m \u001b[0mNotImplementedError\u001b[0m\u001b[1;33m(\u001b[0m\u001b[1;34m'Вызвана функция из дочернего класса, которая там не реализована'\u001b[0m\u001b[1;33m)\u001b[0m\u001b[1;33m\u001b[0m\u001b[1;33m\u001b[0m\u001b[0m\n\u001b[0m\u001b[0;32m      4\u001b[0m \u001b[1;33m\u001b[0m\u001b[0m\n\u001b[0;32m      5\u001b[0m \u001b[1;33m\u001b[0m\u001b[0m\n",
      "\u001b[1;31mNotImplementedError\u001b[0m: Вызвана функция из дочернего класса, которая там не реализована"
     ]
    }
   ],
   "source": [
    "class Figure:\n",
    "    def area(self):\n",
    "        raise NotImplementedError('Вызвана функция из дочернего класса, которая там не реализована')\n",
    "\n",
    "\n",
    "class Square:\n",
    "    \n",
    "    def __init__(self,h):\n",
    "        self.h = h\n",
    "    \n",
    "    def area(self):\n",
    "        return self.h ** 2 \n",
    "        \n",
    "class Rectangle:\n",
    "    \n",
    "    def __init__(self,h,w):\n",
    "        self.h = h \n",
    "        self.w = w \n",
    "        \n",
    "    def area(self):\n",
    "        return self.h * self.w\n",
    "    \n",
    "class Triangle(Figure):\n",
    "    def __init__(self,h,base):\n",
    "        self.h = h \n",
    "        self.base = base\n",
    "        \n",
    "    #def area(self):\n",
    "        #return self.h * self.base * 0.5\n",
    "\n",
    "figures = [Square(5),Rectangle(3,7),Triangle(10,100)]\n",
    "\n",
    "for figure in figures:\n",
    "    print(figure.area())"
   ]
  },
  {
   "cell_type": "code",
   "execution_count": 16,
   "id": "1cf5dd60",
   "metadata": {},
   "outputs": [
    {
     "ename": "TypeError",
     "evalue": "Can't instantiate abstract class Triangle with abstract method area",
     "output_type": "error",
     "traceback": [
      "\u001b[1;31m---------------------------------------------------------------------------\u001b[0m",
      "\u001b[1;31mTypeError\u001b[0m                                 Traceback (most recent call last)",
      "\u001b[1;32m~\\AppData\\Local\\Temp\\ipykernel_1688\\104572915.py\u001b[0m in \u001b[0;36m<module>\u001b[1;34m\u001b[0m\n\u001b[0;32m     31\u001b[0m         \u001b[1;31m#return self.h * self.base * 0.5\u001b[0m\u001b[1;33m\u001b[0m\u001b[1;33m\u001b[0m\u001b[0m\n\u001b[0;32m     32\u001b[0m \u001b[1;33m\u001b[0m\u001b[0m\n\u001b[1;32m---> 33\u001b[1;33m \u001b[0mfigures\u001b[0m \u001b[1;33m=\u001b[0m \u001b[1;33m[\u001b[0m\u001b[0mSquare\u001b[0m\u001b[1;33m(\u001b[0m\u001b[1;36m5\u001b[0m\u001b[1;33m)\u001b[0m\u001b[1;33m,\u001b[0m\u001b[0mRectangle\u001b[0m\u001b[1;33m(\u001b[0m\u001b[1;36m3\u001b[0m\u001b[1;33m,\u001b[0m\u001b[1;36m7\u001b[0m\u001b[1;33m)\u001b[0m\u001b[1;33m,\u001b[0m\u001b[0mTriangle\u001b[0m\u001b[1;33m(\u001b[0m\u001b[1;36m10\u001b[0m\u001b[1;33m,\u001b[0m\u001b[1;36m100\u001b[0m\u001b[1;33m)\u001b[0m\u001b[1;33m]\u001b[0m\u001b[1;33m\u001b[0m\u001b[1;33m\u001b[0m\u001b[0m\n\u001b[0m",
      "\u001b[1;31mTypeError\u001b[0m: Can't instantiate abstract class Triangle with abstract method area"
     ]
    }
   ],
   "source": [
    "from abc import ABC, abstractclassmethod\n",
    "\n",
    "class Figure(ABC):\n",
    "    @abstractclassmethod\n",
    "    def area(self):\n",
    "        pass\n",
    "\n",
    "class Square:\n",
    "    \n",
    "    def __init__(self,h):\n",
    "        self.h = h\n",
    "    \n",
    "    def area(self):\n",
    "        return self.h ** 2 \n",
    "        \n",
    "class Rectangle:\n",
    "    \n",
    "    def __init__(self,h,w):\n",
    "        self.h = h \n",
    "        self.w = w \n",
    "        \n",
    "    def area(self):\n",
    "        return self.h * self.w\n",
    "    \n",
    "class Triangle(Figure):\n",
    "    def __init__(self,h,base):\n",
    "        self.h = h \n",
    "        self.base = base\n",
    "        \n",
    "    #def area(self):\n",
    "        #return self.h * self.base * 0.5\n",
    "\n",
    "figures = [Square(5),Rectangle(3,7),Triangle(10,100)]\n"
   ]
  },
  {
   "cell_type": "code",
   "execution_count": 17,
   "id": "e9b56d93",
   "metadata": {},
   "outputs": [],
   "source": [
    "from abc import ABC, abstractclassmethod\n",
    "\n",
    "class Figure(ABC):\n",
    "    @abstractclassmethod\n",
    "    def area(self):\n",
    "        pass\n",
    "\n",
    "class Square:\n",
    "    \n",
    "    def __init__(self,h):\n",
    "        self.h = h\n",
    "    \n",
    "    def area(self):\n",
    "        return self.h ** 2 \n",
    "        \n",
    "class Rectangle:\n",
    "    \n",
    "    def __init__(self,h,w):\n",
    "        self.h = h \n",
    "        self.w = w \n",
    "        \n",
    "    def area(self):\n",
    "        return self.h * self.w\n",
    "    \n",
    "class Triangle(Figure):\n",
    "    def __init__(self,h,base):\n",
    "        self.h = h \n",
    "        self.base = base\n",
    "        \n",
    "    def area(self):\n",
    "        return self.h * self.base * 0.5\n",
    "\n",
    "figures = [Square(5),Rectangle(3,7),Triangle(10,100)]\n"
   ]
  },
  {
   "cell_type": "code",
   "execution_count": null,
   "id": "225f7798",
   "metadata": {},
   "outputs": [],
   "source": []
  }
 ],
 "metadata": {
  "kernelspec": {
   "display_name": "Python 3 (ipykernel)",
   "language": "python",
   "name": "python3"
  },
  "language_info": {
   "codemirror_mode": {
    "name": "ipython",
    "version": 3
   },
   "file_extension": ".py",
   "mimetype": "text/x-python",
   "name": "python",
   "nbconvert_exporter": "python",
   "pygments_lexer": "ipython3",
   "version": "3.9.13"
  }
 },
 "nbformat": 4,
 "nbformat_minor": 5
}
