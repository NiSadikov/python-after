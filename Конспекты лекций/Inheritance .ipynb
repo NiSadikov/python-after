{
 "cells": [
  {
   "cell_type": "markdown",
   "id": "6c886553",
   "metadata": {},
   "source": [
    "# Лекция 27 \n",
    "\n",
    "## Наследование \n",
    "\n"
   ]
  },
  {
   "cell_type": "code",
   "execution_count": 13,
   "id": "d6a805ba",
   "metadata": {},
   "outputs": [
    {
     "name": "stdout",
     "output_type": "stream",
     "text": [
      "Отработал init из Cat\n",
      "Отработал init из Animal\n",
      "Поглаживание Животного\n"
     ]
    }
   ],
   "source": [
    "class Animal:\n",
    "    def __init__(self,name,age):\n",
    "        print ('Отработал init из Animal')\n",
    "        self.name = name\n",
    "        self.age = age\n",
    "    def pet(self):\n",
    "        print('Поглаживание Животного')\n",
    "        \n",
    "class Cat(Animal):\n",
    "    def __init__(self,name,age,food):\n",
    "        print ('Отработал init из Cat')\n",
    "        super().__init__(name,age)\n",
    "        self.food = food\n",
    "\n",
    "\n",
    "class Dog(Animal):\n",
    "    def pet(self):\n",
    "        print('Поглаживание собаки')\n",
    "\n",
    "\n",
    "p = Cat('Васька', 8,'Рыба')\n",
    "p.pet()"
   ]
  },
  {
   "cell_type": "code",
   "execution_count": 25,
   "id": "77ee83f8",
   "metadata": {},
   "outputs": [
    {
     "name": "stdout",
     "output_type": "stream",
     "text": [
      "Отработал init из Animal\n",
      "Это животное по имени Васька возраста 8 лет\n",
      "True\n",
      "True\n",
      "True\n"
     ]
    }
   ],
   "source": [
    "class Animal(object):\n",
    "    def __init__(self,name,age):\n",
    "        print ('Отработал init из Animal')\n",
    "        self.name = name\n",
    "        self.age = age\n",
    "    def pet(self):\n",
    "        print('Поглаживание Животного')\n",
    "    def __str__(self):\n",
    "        return (f'Это животное по имени {self.name} возраста {self.age} лет')\n",
    "        \n",
    "class Cat(Animal):\n",
    "    pass\n",
    "\n",
    "class Dog(Animal):\n",
    "    pass\n",
    "        \n",
    "p = Animal('Васька',8)\n",
    "print(p)\n",
    "\n",
    "print(issubclass(Animal,object))\n",
    "print(issubclass(Cat,Animal))\n",
    "print(issubclass(Cat,object))"
   ]
  },
  {
   "cell_type": "code",
   "execution_count": 26,
   "id": "944ffb4a",
   "metadata": {},
   "outputs": [
    {
     "name": "stdout",
     "output_type": "stream",
     "text": [
      "True\n"
     ]
    }
   ],
   "source": [
    "x = 8 # x - объект типа 'int' и инициализировали его 8\n",
    "\n",
    "print(issubclass(int,object))"
   ]
  },
  {
   "cell_type": "code",
   "execution_count": 28,
   "id": "39642e3a",
   "metadata": {},
   "outputs": [
    {
     "name": "stdout",
     "output_type": "stream",
     "text": [
      "100,90,98\n"
     ]
    }
   ],
   "source": [
    "class EGE(list):\n",
    "    def __str__(self):\n",
    "        return ','.join(map(str,self))\n",
    "    \n",
    "p = EGE([100,90,98])\n",
    "print(p)"
   ]
  },
  {
   "cell_type": "code",
   "execution_count": 35,
   "id": "8a7d5930",
   "metadata": {},
   "outputs": [
    {
     "name": "stdout",
     "output_type": "stream",
     "text": [
      "(<class '__main__.Bulldog'>, <class '__main__.Dog'>, <class '__main__.Animal'>, <class 'object'>)\n",
      "Поглаживание бульдога\n"
     ]
    }
   ],
   "source": [
    "# MRO = Methon Resolution Order\n",
    "\n",
    "class Animal:\n",
    "    def pet(self):\n",
    "        print('Поглаживание животного')\n",
    "\n",
    "class Dog(Animal):\n",
    "    def pet(self):\n",
    "        print('Поглаживание собаки')\n",
    "        \n",
    "class Bulldog(Dog):\n",
    "    def pet(self):\n",
    "        print('Поглаживание бульдога')\n",
    "    \n",
    "v = Bulldog()\n",
    "print(Bulldog.__mro__)\n",
    "v.pet()"
   ]
  },
  {
   "cell_type": "code",
   "execution_count": 38,
   "id": "cdcdea3c",
   "metadata": {},
   "outputs": [
    {
     "name": "stdout",
     "output_type": "stream",
     "text": [
      "(<class '__main__.Bulldog'>, <class '__main__.Dog'>, <class '__main__.Animal'>, <class 'object'>)\n",
      "Поглаживание бульдога\n",
      "Поглаживание собаки\n",
      "Стандартные действия для любой собаки\n"
     ]
    }
   ],
   "source": [
    "# MRO = Methon Resolution Order\n",
    "\n",
    "class Animal:\n",
    "    def pet(self):\n",
    "        print('Поглаживание животного')\n",
    "\n",
    "class Dog(Animal):\n",
    "    def pet(self):\n",
    "        print('Поглаживание собаки')\n",
    "        print('Стандартные действия для любой собаки')\n",
    "        \n",
    "class Bulldog(Dog):\n",
    "    def pet(self):\n",
    "        print('Поглаживание бульдога')\n",
    "        super().pet()\n",
    "    \n",
    "v = Bulldog()\n",
    "print(Bulldog.__mro__)\n",
    "v.pet()"
   ]
  },
  {
   "cell_type": "code",
   "execution_count": 45,
   "id": "cef11ba5",
   "metadata": {},
   "outputs": [
    {
     "name": "stdout",
     "output_type": "stream",
     "text": [
      "Вася\n",
      "100\n",
      "Действия при продаже любого товара <__main__.Fish object at 0x000001A8677FA1F0>\n"
     ]
    }
   ],
   "source": [
    "# Зоомагазин \n",
    "\n",
    "class Animal:\n",
    "    name = 'Вася'\n",
    "    #def __init__(self,name):\n",
    "        #self.name = name\n",
    "\n",
    "    def pet(self):\n",
    "        print(f'Поглаживание животного {self.name}')\n",
    "        \n",
    "class Goods:\n",
    "    price = 100\n",
    "    #def __init__(self,price):\n",
    "    #    self.price = price\n",
    "    def sell(self):\n",
    "        print(f'Действия при продаже любого товара {self}')\n",
    "\n",
    "class Fish(Animal,Goods):\n",
    "    def pet(self):\n",
    "        print(f'Поглаживание рыбы {self.name}')\n",
    "        print('Стандартные действия для любой рыбы')\n",
    "        \n",
    "v = Fish()\n",
    "print(v.name)\n",
    "print(v.price)\n",
    "v.name\n",
    "v.price\n",
    "v.sell()"
   ]
  },
  {
   "cell_type": "code",
   "execution_count": 51,
   "id": "d815f57d",
   "metadata": {},
   "outputs": [
    {
     "name": "stdout",
     "output_type": "stream",
     "text": [
      "Инит из Animal\n",
      "{'name': 'Hello'}\n"
     ]
    }
   ],
   "source": [
    "# Зоомагазин \n",
    "\n",
    "class Animal:\n",
    "    name = 'Вася'\n",
    "    def __init__(self,name):\n",
    "        print('Инит из Animal')\n",
    "        self.name = name\n",
    "\n",
    "    def pet(self):\n",
    "        print(f'Поглаживание животного {self.name}')\n",
    "        \n",
    "class Goods:\n",
    "    price = 100\n",
    "    def __init__(self,price):\n",
    "        print ('Инит из Goods')\n",
    "        self.price = price\n",
    "    def sell(self):\n",
    "        print(f'Действия при продаже любого товара {self}')\n",
    "\n",
    "class Fish(Animal,Goods):\n",
    "    def pet(self):\n",
    "        print(f'Поглаживание рыбы {self.name}')\n",
    "        print('Стандартные действия для любой рыбы')\n",
    "        \n",
    "v = Fish('Hello')\n",
    "print(v.__dict__)"
   ]
  },
  {
   "cell_type": "code",
   "execution_count": 54,
   "id": "cfe6bd2a",
   "metadata": {},
   "outputs": [
    {
     "name": "stdout",
     "output_type": "stream",
     "text": [
      "Инит из Animal\n",
      "Инит из Goods\n",
      "Отработали init-ы из классов Animal и Goods\n",
      "{'name': 'Hello', 'price': 100}\n"
     ]
    }
   ],
   "source": [
    "# Зоомагазин \n",
    "\n",
    "class Animal:\n",
    "    name = 'Вася'\n",
    "    def __init__(self,name):\n",
    "        print('Инит из Animal')\n",
    "        self.name = name\n",
    "\n",
    "    def pet(self):\n",
    "        print(f'Поглаживание животного {self.name}')\n",
    "        \n",
    "class Goods:\n",
    "    price = 100\n",
    "    def __init__(self,price):\n",
    "        print ('Инит из Goods')\n",
    "        self.price = price\n",
    "    def sell(self):\n",
    "        print(f'Действия при продаже любого товара {self}')\n",
    "\n",
    "class Fish(Animal,Goods):\n",
    "    def __init__(self,name,price):\n",
    "        Animal.__init__(self,name)\n",
    "        Goods.__init__(self,price)\n",
    "        print('Отработали init-ы из классов Animal и Goods')\n",
    "    def pet(self):\n",
    "        print(f'Поглаживание рыбы {self.name}')\n",
    "        print('Стандартные действия для любой рыбы')\n",
    "        \n",
    "v = Fish('Hello',100)\n",
    "print(v.__dict__)"
   ]
  },
  {
   "cell_type": "code",
   "execution_count": 58,
   "id": "0f6d265c",
   "metadata": {},
   "outputs": [
    {
     "name": "stdout",
     "output_type": "stream",
     "text": [
      "{}\n",
      "{'__module__': '__main__', '_Animal__name': 'Вася', '__dict__': <attribute '__dict__' of 'Animal' objects>, '__weakref__': <attribute '__weakref__' of 'Animal' objects>, '__doc__': None}\n"
     ]
    }
   ],
   "source": [
    "class Animal:\n",
    "    __name = 'Вася'\n",
    "    \n",
    "class Dog(Animal):\n",
    "    def show_name(self):\n",
    "        print(self.__name)\n",
    "        \n",
    "v = Dog()\n",
    "print(v.__dict__)\n",
    "print(Animal.__dict__)"
   ]
  },
  {
   "cell_type": "code",
   "execution_count": 59,
   "id": "fdb4f67c",
   "metadata": {},
   "outputs": [
    {
     "name": "stdout",
     "output_type": "stream",
     "text": [
      "Вася\n"
     ]
    }
   ],
   "source": [
    "class Animal:\n",
    "    __name = 'Вася'\n",
    "    def show_name(self):\n",
    "        print(self.__name)\n",
    "    \n",
    "class Dog(Animal):\n",
    "    pass\n",
    "        \n",
    "v = Dog()\n",
    "v.show_name()"
   ]
  },
  {
   "cell_type": "code",
   "execution_count": 62,
   "id": "4a2814f7",
   "metadata": {},
   "outputs": [
    {
     "name": "stdout",
     "output_type": "stream",
     "text": [
      "Вася\n"
     ]
    }
   ],
   "source": [
    "class Animal:\n",
    "    _name = 'Вася'\n",
    "    \n",
    "class Dog(Animal):\n",
    "    def show_name(self):\n",
    "        print(self._name)\n",
    "        \n",
    "v = Dog()\n",
    "v.show_name()"
   ]
  }
 ],
 "metadata": {
  "kernelspec": {
   "display_name": "Python 3 (ipykernel)",
   "language": "python",
   "name": "python3"
  },
  "language_info": {
   "codemirror_mode": {
    "name": "ipython",
    "version": 3
   },
   "file_extension": ".py",
   "mimetype": "text/x-python",
   "name": "python",
   "nbconvert_exporter": "python",
   "pygments_lexer": "ipython3",
   "version": "3.9.13"
  }
 },
 "nbformat": 4,
 "nbformat_minor": 5
}
