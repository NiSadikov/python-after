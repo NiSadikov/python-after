{
 "cells": [
  {
   "cell_type": "markdown",
   "id": "e581d8c8",
   "metadata": {},
   "source": [
    "# Задача 1\n",
    "\n",
    "Напишите функцию, которая на вход принимает список, а возвращает словарь,\n",
    "где каждый элемент списка является и ключом, и значением. В ответе запишите\n",
    "результаты работы для списка: [1, 2, 3, 4, 5]"
   ]
  },
  {
   "cell_type": "code",
   "execution_count": 28,
   "id": "7d36879a",
   "metadata": {},
   "outputs": [
    {
     "name": "stdout",
     "output_type": "stream",
     "text": [
      "{1: 1, 2: 2, 3: 3, 4: 4, 5: 5}\n"
     ]
    }
   ],
   "source": [
    "x = [1,2,3,4,5]\n",
    "\n",
    "def lists(x):\n",
    "    my_dict = {}\n",
    "    for i in x:\n",
    "        my_dict[i] = i\n",
    "    return my_dict\n",
    "\n",
    "print(lists(x))"
   ]
  },
  {
   "cell_type": "markdown",
   "id": "f512a81d",
   "metadata": {},
   "source": [
    "# Задача 2\n",
    "\n",
    "Напишите программу для генерации и печати словаря, который содержит число\n",
    "от 1 до n включительно в формате (x, x*x). В ответе запишите вывпод программы\n",
    "для n = 5"
   ]
  },
  {
   "cell_type": "code",
   "execution_count": 4,
   "id": "4d461577",
   "metadata": {},
   "outputs": [
    {
     "name": "stdout",
     "output_type": "stream",
     "text": [
      "5\n",
      "{1: 1, 2: 4, 3: 9, 4: 16, 5: 25}\n"
     ]
    }
   ],
   "source": [
    "n = int(input())\n",
    "my_dict = {}\n",
    "for i in range(1,n+1):\n",
    "    my_dict[i] = i*i\n",
    "print(my_dict)"
   ]
  },
  {
   "cell_type": "markdown",
   "id": "41deb7e9",
   "metadata": {},
   "source": [
    "# Задача 3\n",
    "\n",
    "Дан словарь с числовыми значениями. Напишите программу, которая их перемножает и выводит на экран. В ответе запишите результат работы программы для\n",
    "словаря: {'data1': 375, 'data2': 567, 'data3': - 37, 'data4': 21}"
   ]
  },
  {
   "cell_type": "code",
   "execution_count": 12,
   "id": "86c7e4c6",
   "metadata": {},
   "outputs": [
    {
     "name": "stdout",
     "output_type": "stream",
     "text": [
      "-165209625\n"
     ]
    }
   ],
   "source": [
    "my_dict = {'data1': 375, 'data2': 567, 'data3': - 37, 'data4': 21}\n",
    "k = 1 \n",
    "for i in my_dict: \n",
    "    k = k*my_dict[i]\n",
    "print(k)"
   ]
  },
  {
   "cell_type": "code",
   "execution_count": 24,
   "id": "c0e3d8f4",
   "metadata": {},
   "outputs": [
    {
     "name": "stdout",
     "output_type": "stream",
     "text": [
      "Летний день - это день, когда наступает летнее солнцестояние и длительность дня достигает своего максимума. В разных странах и регионах летние дни могут иметь разную продолжительность и характеризоваться разными погодными условиями. Вообще, летние дни обычно ассоциируются с теплой и ясной погодой, зелеными лугами, пляжами, купанием в море или озере, пикниками и барбекю. В летние дни люди часто отдыхают и проводят время на открытом воздухе, занимаются спортом, путешествуют и открывают новые места!\n",
      "12\n",
      "{'.': 3, ',': 8, ':': 0, ';': 0, '!': 1, '?': 0}\n"
     ]
    }
   ],
   "source": [
    "line = input()\n",
    "my_dict = {'.': 0, ',': 0, ':': 0, ';': 0, '!': 0, '?': 0}\n",
    "for i in line:\n",
    "    if i in my_dict:\n",
    "        my_dict[i] +=1\n",
    "k = 0 \n",
    "for x in my_dict:\n",
    "    k += my_dict[x]\n",
    "print(k)\n",
    "print(my_dict)"
   ]
  },
  {
   "cell_type": "markdown",
   "id": "f306b8a0",
   "metadata": {},
   "source": [
    "# Задача 5\n",
    "\n",
    "Напишите программу, которая выводит все различные цифры, встречающиеся в\n",
    "исходной строке, в порядке возрастания. Если в строке нет букв, то вывести \"NO\".\n",
    "В ответе запишите результат программы для строки:\n",
    "\n",
    "”kn1mb9c7c5cv5cc9cvv7cx9sd8nm4cz2bm4k6hf9d”"
   ]
  },
  {
   "cell_type": "code",
   "execution_count": 62,
   "id": "abdff6dc",
   "metadata": {},
   "outputs": [
    {
     "name": "stdout",
     "output_type": "stream",
     "text": [
      "987654321\n",
      "123456789\n"
     ]
    }
   ],
   "source": [
    "b = {'1': 0, '2': 0, '3': 0, '4': 0, '5': 0, '6': 0, '7': 0, '8': 0, '9': 0}\n",
    "c = []\n",
    "line = input()\n",
    "for i in line:\n",
    "    if i in b and b[i] == 0:\n",
    "        b[i] += 1 \n",
    "        c.append(i)        \n",
    "if len(c) == 0:\n",
    "    print('NO')\n",
    "c = [int(x) for x in c]\n",
    "final = ''\n",
    "while len(c) > 0:\n",
    "    for x in c:\n",
    "        k = 0\n",
    "        for i in c:\n",
    "            if x > i:\n",
    "                k +=1\n",
    "        if k == 0:\n",
    "            final += str(x)\n",
    "            c.remove(x)\n",
    "print(final)"
   ]
  },
  {
   "cell_type": "code",
   "execution_count": null,
   "id": "7cfba438",
   "metadata": {},
   "outputs": [],
   "source": []
  }
 ],
 "metadata": {
  "kernelspec": {
   "display_name": "Python 3 (ipykernel)",
   "language": "python",
   "name": "python3"
  },
  "language_info": {
   "codemirror_mode": {
    "name": "ipython",
    "version": 3
   },
   "file_extension": ".py",
   "mimetype": "text/x-python",
   "name": "python",
   "nbconvert_exporter": "python",
   "pygments_lexer": "ipython3",
   "version": "3.9.13"
  }
 },
 "nbformat": 4,
 "nbformat_minor": 5
}
