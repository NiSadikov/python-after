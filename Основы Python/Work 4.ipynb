{
 "cells": [
  {
   "cell_type": "markdown",
   "id": "51693ef2",
   "metadata": {},
   "source": [
    "# Задача 1\n",
    "\n",
    "Ниже написана программа, которая на вход принимает число с клавиатуры до\n",
    "тех пор, пока не будет введено чётное или оканчивающееся на 5 число:\n",
    "\n",
    "В ответе запишите условие на месте *** (после While), чтобы программа работала как положено."
   ]
  },
  {
   "cell_type": "code",
   "execution_count": 26,
   "id": "4d707bba",
   "metadata": {},
   "outputs": [
    {
     "name": "stdout",
     "output_type": "stream",
     "text": [
      "1 \n",
      "3\n",
      "5\n"
     ]
    }
   ],
   "source": [
    "x = int(input())\n",
    "while (x % 2 != 0 and x % 5 != 0):\n",
    "    x = int(input())"
   ]
  },
  {
   "cell_type": "markdown",
   "id": "8e5e9e1b",
   "metadata": {},
   "source": [
    "# Задача 2 \n",
    "\n",
    "Вы пришли испытание, по итогам которого будут выбраны кандидаты на стажировку в крутую IT-компанию. Вам нужно решить задачу, но Вы не знаете как, однако\n",
    "кандидат справа от Вас уже написал программу для решения задачи. Вам остается\n",
    "написать такое же решение, только не списывая точь-в-точь. Ниже дана программа\n",
    "второго кандиата, затем Ваша. В ответе через пробел напишите, что должно стоять\n",
    "на месте для for и range"
   ]
  },
  {
   "cell_type": "code",
   "execution_count": 28,
   "id": "9556b6a1",
   "metadata": {},
   "outputs": [
    {
     "name": "stdout",
     "output_type": "stream",
     "text": [
      "0\n",
      "1\n",
      "2\n",
      "3\n",
      "4\n",
      "5\n",
      "6\n",
      "7\n",
      "8\n",
      "9\n"
     ]
    }
   ],
   "source": [
    "# программа второго кандидата: \n",
    "i = 0\n",
    "while i < 10:\n",
    "    print(i)\n",
    "    i += 1"
   ]
  },
  {
   "cell_type": "code",
   "execution_count": 29,
   "id": "2e76479f",
   "metadata": {},
   "outputs": [
    {
     "name": "stdout",
     "output_type": "stream",
     "text": [
      "0\n",
      "1\n",
      "2\n",
      "3\n",
      "4\n",
      "5\n",
      "6\n",
      "7\n",
      "8\n",
      "9\n"
     ]
    }
   ],
   "source": [
    "# ваше решение\n",
    "\n",
    "for x in range(10):\n",
    "    print(x)"
   ]
  },
  {
   "cell_type": "markdown",
   "id": "b4d5af91",
   "metadata": {},
   "source": [
    "# Задача 3\n",
    "\n",
    "На вход с клавиатуры подаются два положительных числа K и N (K < N). Напишите программу, которая выводит сумму нечетных чисел от K до N включительно с помощью цикла while. В ответе запишите результат работы программы для чисел:\n",
    "K = 12345 N = 56789\n",
    "\n"
   ]
  },
  {
   "cell_type": "code",
   "execution_count": 31,
   "id": "db58cb06",
   "metadata": {},
   "outputs": [
    {
     "name": "stdout",
     "output_type": "stream",
     "text": [
      "12345\n",
      "56789\n",
      "768182441\n"
     ]
    }
   ],
   "source": [
    "K = int(input())\n",
    "N = int(input())\n",
    "s = 0\n",
    "while K <= N:\n",
    "    if K % 2 != 0:\n",
    "        s += K\n",
    "        K += 1\n",
    "    else:\n",
    "        K += 1\n",
    "print(s)"
   ]
  },
  {
   "cell_type": "markdown",
   "id": "d6c56617",
   "metadata": {},
   "source": [
    "# Задача 4\n",
    "\n",
    "На вход с клавиатуры подается положительное число N. Напишите программу,\n",
    "которая находит факториал числа (факториал - это произведение всех чисел от 1\n",
    "до N). В ответе запишите результаты работы программы для числа 10"
   ]
  },
  {
   "cell_type": "code",
   "execution_count": 7,
   "id": "03be0e5a",
   "metadata": {},
   "outputs": [
    {
     "name": "stdout",
     "output_type": "stream",
     "text": [
      "10\n",
      "3628800\n"
     ]
    }
   ],
   "source": [
    "N = int(input())\n",
    "s = 1\n",
    "for x in range(1, N+1):\n",
    "    s = s*x \n",
    "print(s)"
   ]
  },
  {
   "cell_type": "markdown",
   "id": "e3b75473",
   "metadata": {},
   "source": [
    "# Задача 5\n",
    "\n",
    "На вход с клавиатуры подается положительное число N. Напишите программу,\n",
    "которая находит число Фибоначчи с индексом N (числа Фибоначчи считаются по\n",
    "формуле: F(n) = F(n-1) + F(n-2), F(1) = 1, F(2) = 1). Ответ укажите для N = 10"
   ]
  },
  {
   "cell_type": "code",
   "execution_count": 9,
   "id": "80d55770",
   "metadata": {},
   "outputs": [
    {
     "name": "stdout",
     "output_type": "stream",
     "text": [
      "2\n",
      "2\n"
     ]
    }
   ],
   "source": [
    "N = int(input())\n",
    "a = 1\n",
    "b = 1 \n",
    "for x in range(3, N+1):\n",
    "    if N < 3:\n",
    "        print(1)\n",
    "    else:\n",
    "        c = b + a  \n",
    "        a = b\n",
    "        b = c \n",
    "print(c)\n",
    "\n"
   ]
  },
  {
   "cell_type": "code",
   "execution_count": null,
   "id": "1bde13ec",
   "metadata": {},
   "outputs": [],
   "source": []
  },
  {
   "cell_type": "markdown",
   "id": "ebb17ea5",
   "metadata": {},
   "source": [
    "### "
   ]
  }
 ],
 "metadata": {
  "kernelspec": {
   "display_name": "Python 3 (ipykernel)",
   "language": "python",
   "name": "python3"
  },
  "language_info": {
   "codemirror_mode": {
    "name": "ipython",
    "version": 3
   },
   "file_extension": ".py",
   "mimetype": "text/x-python",
   "name": "python",
   "nbconvert_exporter": "python",
   "pygments_lexer": "ipython3",
   "version": "3.9.13"
  }
 },
 "nbformat": 4,
 "nbformat_minor": 5
}
