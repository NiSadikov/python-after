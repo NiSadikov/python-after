{
 "cells": [
  {
   "cell_type": "markdown",
   "id": "ef3b7887",
   "metadata": {},
   "source": [
    "# Задача 1\n",
    "\n",
    "Напишите программу, которая принимает на вход поочерёдно 3 строки и выводит их сумму. Ответ запишите для строк 'Программирование', 'после', и 'школы!'"
   ]
  },
  {
   "cell_type": "code",
   "execution_count": 79,
   "id": "e2ed5281",
   "metadata": {},
   "outputs": [
    {
     "name": "stdout",
     "output_type": "stream",
     "text": [
      "Программирование\n",
      "после\n",
      "школы\n",
      "Программирование после школы\n",
      "Программированиепослешколы\n"
     ]
    }
   ],
   "source": [
    "str1 = input()\n",
    "str2 = input()\n",
    "str3 = input()\n",
    "print(str1,str2,str3) #Если мы хотим вывести их через пробел\n",
    "print(str1+str2+str3) #Если мы хотим их просто склеить"
   ]
  },
  {
   "cell_type": "markdown",
   "id": "ab91d73e",
   "metadata": {},
   "source": [
    "# Задача 2\n",
    "\n",
    "Напишите программу, которая принимает на вход числа a и b и считает арифметическое выражение:\n",
    "\n",
    "$$\n",
    "2^{8}\\cdot a^{8} - 2^{4} \\cdot a^{4} + 2^{2} \\cdot a^{2} - 2b + \\frac{1}{2} \\cdot \\sqrt{b} + \\frac{ab^{b+a}}{2}\n",
    "$$\n",
    "\n",
    "В ответ укажите значения для a = 2 и b = 9\n"
   ]
  },
  {
   "cell_type": "code",
   "execution_count": 80,
   "id": "7ac18b83",
   "metadata": {},
   "outputs": [
    {
     "name": "stdout",
     "output_type": "stream",
     "text": [
      "2\n",
      "9\n",
      "31381124888.5\n"
     ]
    }
   ],
   "source": [
    "a = int(input())\n",
    "b = int(input())\n",
    "print(2**8*a**8-2**4*a**4+2**2*a**2-2*b+0.5*b**0.5+(a*b**(b+a))/2)"
   ]
  },
  {
   "cell_type": "markdown",
   "id": "1f6dd3d5",
   "metadata": {},
   "source": [
    "# Задача 3 \n",
    "\n",
    "Укажите, что выведет данная программа, если ввести значения 2 и 3 с клавиатуры. Если программа упадет с ошибкой, то в ответ запишите 0\n",
    "\n"
   ]
  },
  {
   "cell_type": "code",
   "execution_count": 81,
   "id": "7929b8ad",
   "metadata": {},
   "outputs": [
    {
     "name": "stdout",
     "output_type": "stream",
     "text": [
      "2\n",
      "3\n",
      "23!"
     ]
    }
   ],
   "source": [
    "a = input()\n",
    "b = input()\n",
    "print(a+b, end='!')"
   ]
  },
  {
   "cell_type": "markdown",
   "id": "4eff0388",
   "metadata": {},
   "source": [
    "# Задача 4\n",
    "\n",
    "Укажите, что выведет данная программа, если ввести значения 123, 456 и 789 с клавиатуры. Если программа упадёт с ошибкой, то в ответ запишите 0"
   ]
  },
  {
   "cell_type": "code",
   "execution_count": 82,
   "id": "dfd4a545",
   "metadata": {},
   "outputs": [
    {
     "name": "stdout",
     "output_type": "stream",
     "text": [
      "123\n",
      "456\n",
      "789\n",
      "(123 + 456 - 789) % 10 = 0\n"
     ]
    }
   ],
   "source": [
    "a = int(input())\n",
    "b = int(input())\n",
    "c = int(input())\n",
    "print('(', end='')\n",
    "print(a,b, sep=' + ', end=' - ')\n",
    "print(c, ') % 10', sep='', end=' = ')\n",
    "print((a+b-c)%10)"
   ]
  },
  {
   "cell_type": "markdown",
   "id": "6f1fd242",
   "metadata": {},
   "source": [
    "# Задача 5\n",
    "\n",
    "Напишите программу, которая считывает целое число, после чего на экран выводится следующее и предыдущее целые числа без пробела. В ответ запишите результат работы программы для числа 24."
   ]
  },
  {
   "cell_type": "code",
   "execution_count": 97,
   "id": "db55bcfd",
   "metadata": {},
   "outputs": [
    {
     "name": "stdout",
     "output_type": "stream",
     "text": [
      "24\n",
      "2523\n"
     ]
    }
   ],
   "source": [
    "number = int(input())\n",
    "following = number + 1\n",
    "previous = number - 1\n",
    "print(str(following) + str(previous))"
   ]
  },
  {
   "cell_type": "markdown",
   "id": "450e6b0b",
   "metadata": {},
   "source": [
    "# Задача 6 \n",
    "\n",
    "Напишите программу, которая находит полное число киломметров по заданному числу сантиметров. В ответе запишите результат работы программы для числа 123456789\n",
    "\n",
    "\n"
   ]
  },
  {
   "cell_type": "code",
   "execution_count": null,
   "id": "0f9be755",
   "metadata": {},
   "outputs": [],
   "source": [
    "centimeters = int(input())\n",
    "print()"
   ]
  }
 ],
 "metadata": {
  "kernelspec": {
   "display_name": "Python 3 (ipykernel)",
   "language": "python",
   "name": "python3"
  },
  "language_info": {
   "codemirror_mode": {
    "name": "ipython",
    "version": 3
   },
   "file_extension": ".py",
   "mimetype": "text/x-python",
   "name": "python",
   "nbconvert_exporter": "python",
   "pygments_lexer": "ipython3",
   "version": "3.9.13"
  }
 },
 "nbformat": 4,
 "nbformat_minor": 5
}
