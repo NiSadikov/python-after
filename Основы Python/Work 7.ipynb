{
 "cells": [
  {
   "cell_type": "markdown",
   "id": "59b35f45",
   "metadata": {},
   "source": [
    "# Задача 1\n",
    "\n",
    "Напишите программу которая запрашивает у пользователя два числа n и m и\n",
    "добавляет их в список с помощью метода append. Затем программа выводит на экран\n",
    "сумму этих чисел. В ответе укажите вывод массива, затем сумму добавленных чисел,\n",
    "для n = 12 и m = 34\n"
   ]
  },
  {
   "cell_type": "code",
   "execution_count": 40,
   "id": "8f92c822",
   "metadata": {},
   "outputs": [
    {
     "name": "stdout",
     "output_type": "stream",
     "text": [
      "12\n",
      "34\n",
      "[12, 34]\n",
      "46\n"
     ]
    }
   ],
   "source": [
    "n = int(input())\n",
    "m = int(input())\n",
    "lists = []\n",
    "lists.append(n)\n",
    "lists.append(m)\n",
    "print(lists)\n",
    "print(sum(lists))"
   ]
  },
  {
   "cell_type": "markdown",
   "id": "d52d1a81",
   "metadata": {},
   "source": [
    "# Задача 2\n",
    "\n",
    "Напишите программу, которая запрашивает у пользователя строку текста, разбивает ее на слова и добавляет каждое слово в массив с помощью метода append. Затем\n",
    "программа выводит первое и последнее слово в списке. В ответе укажите результат\n",
    "работы программы для строки \"Программирование после школы\"\n",
    "\n",
    "\n"
   ]
  },
  {
   "cell_type": "code",
   "execution_count": 1,
   "id": "246cde8e",
   "metadata": {
    "scrolled": true
   },
   "outputs": [
    {
     "name": "stdout",
     "output_type": "stream",
     "text": [
      "Программирование после школы\n",
      "Программирование школы\n"
     ]
    }
   ],
   "source": [
    "# Запрашиваем у пользователя ввод строки\n",
    "s = input()\n",
    "\n",
    "# Задаем разделитель слов в строке\n",
    "separator = ' '\n",
    "\n",
    "# Инициализируем переменную для накопления символов слова\n",
    "word = ''\n",
    "\n",
    "# Инициализируем пустой список, куда будем добавлять слова\n",
    "result = []\n",
    "\n",
    "# Проходим по каждому символу в введенной строке\n",
    "for i in s:\n",
    "    # Если символ - это разделитель слов, то добавляем сформированное до этого слово в список и обнуляем переменную word\n",
    "    if i == separator:\n",
    "        result.append(word)\n",
    "        word = ''\n",
    "    else:\n",
    "        # Если символ не разделитель, то добавляем его к слову\n",
    "        word += i\n",
    "\n",
    "# После окончания цикла в слове может остаться последнее слово, которое мы добавим в список\n",
    "result.append(word)\n",
    "print(result[0], result[-1])"
   ]
  },
  {
   "cell_type": "markdown",
   "id": "3c0aeefe",
   "metadata": {},
   "source": [
    "# Задача 3\n",
    "\n",
    "Напишите программу, которая запрашивает у пользователя строку текста, разбивает ее на слова и добавляет каждое слово в массив с помощью метода append. Затем\n",
    "программа находит самое длинное слово в массиве и выводит его. В ответе укажите\n",
    "резульатат работы программы для строки \"Вот Вотяков нетипичный учитель\"\n",
    "\n"
   ]
  },
  {
   "cell_type": "code",
   "execution_count": 1,
   "id": "75573645",
   "metadata": {},
   "outputs": [
    {
     "name": "stdout",
     "output_type": "stream",
     "text": [
      "Вот Вотяков нетипичный учитель\n",
      "нетипичный\n"
     ]
    }
   ],
   "source": [
    "# Запрашиваем у пользователя ввод строки\n",
    "s = input()\n",
    "\n",
    "# Задаем разделитель слов в строке\n",
    "separator = ' '\n",
    "\n",
    "# Инициализируем переменную для накопления символов слова\n",
    "word = ''\n",
    "\n",
    "# Инициализируем пустой список, куда будем добавлять слова\n",
    "result = []\n",
    "\n",
    "# Проходим по каждому символу в введенной строке\n",
    "for i in s:\n",
    "    # Если символ - это разделитель слов, то добавляем сформированное до этого слово в список и обнуляем переменную word\n",
    "    if i == separator:\n",
    "        result.append(word)\n",
    "        word = ''\n",
    "    else:\n",
    "        # Если символ не разделитель, то добавляем его к слову\n",
    "        word += i\n",
    "\n",
    "# После окончания цикла в слове может остаться последнее слово, которое мы добавим в список\n",
    "result.append(word)\n",
    "\n",
    "counter_max = 0\n",
    "win_words = ''\n",
    "\n",
    "# Проходим по каждому слову в списке\n",
    "for x in result:\n",
    "    if len(x) > counter_max:\n",
    "        counter_max = len(x)\n",
    "        win_words = x\n",
    "print(win_words)"
   ]
  },
  {
   "cell_type": "markdown",
   "id": "833b1a10",
   "metadata": {},
   "source": [
    "# Задача 4 \n",
    "\n",
    "\n",
    "Напишите программу, которая запрашивает у пользователя число n и добавляет в\n",
    "список все числа от 1 до n включительно, которые делятся на 3 или на 5, с помощью\n",
    "метода append. Затем программа находит сумму всех чисел в списке и выводит ее\n",
    "на экран. В ответе укажите результат работы программы для n = 1000."
   ]
  },
  {
   "cell_type": "code",
   "execution_count": 3,
   "id": "aedb39d1",
   "metadata": {},
   "outputs": [
    {
     "name": "stdout",
     "output_type": "stream",
     "text": [
      "1000\n",
      "234168\n"
     ]
    }
   ],
   "source": [
    "n = int(input())\n",
    "number = []\n",
    "for i in range(1, n+1):\n",
    "    if i % 3 == 0 or i % 5 == 0:\n",
    "        number.append(i)\n",
    "print(sum(number))\n"
   ]
  },
  {
   "cell_type": "markdown",
   "id": "e85e090f",
   "metadata": {},
   "source": [
    "# Задача 5\n",
    "\n",
    "Напишите программу, которая запрашивает у пользователя строку текста и добавляет каждое слово в список с помощью метода append. Затем программа находит\n",
    "самое часто встречающееся слово в списке и выводит его на экран. В ответе укажите\n",
    "результат работы программы для строки \"cat cat dog cat dog dog cat cat dog dog cat\"\n"
   ]
  },
  {
   "cell_type": "code",
   "execution_count": 39,
   "id": "29d82e78",
   "metadata": {},
   "outputs": [
    {
     "name": "stdout",
     "output_type": "stream",
     "text": [
      "cat cat dog cat dog dog cat cat dog dog cat\n",
      "cat\n"
     ]
    }
   ],
   "source": [
    "# Запрашиваем у пользователя ввод строки\n",
    "s = input()\n",
    "\n",
    "# Задаем разделитель слов в строке\n",
    "separator = ' '\n",
    "\n",
    "# Инициализируем переменную для накопления символов слова\n",
    "word = ''\n",
    "\n",
    "# Инициализируем пустой список, куда будем добавлять слова\n",
    "result = []\n",
    "\n",
    "# Проходим по каждому символу в введенной строке\n",
    "for i in s:\n",
    "    # Если символ - это разделитель слов, то добавляем сформированное до этого слово в список и обнуляем переменную word\n",
    "    if i == separator:\n",
    "        result.append(word)\n",
    "        word = ''\n",
    "    else:\n",
    "        # Если символ не разделитель, то добавляем его к слову\n",
    "        word += i\n",
    "\n",
    "# После окончания цикла в слове может остаться последнее слово, которое мы добавим в список\n",
    "result.append(word)\n",
    "\n",
    "# Инициализируем пустую строку для хранения самого часто встречающегося слова и счетчики\n",
    "win_words = ''\n",
    "counter = 0\n",
    "counter_max = 0\n",
    "\n",
    "# Проходим по каждому слову в списке\n",
    "for x in result:\n",
    "    # Для каждого слова считаем, сколько раз оно встречается в списке\n",
    "    for i in result:\n",
    "        if x == i:\n",
    "            counter += 1\n",
    "    # Если текущее слово встречается чаще, чем предыдущее \"часто встречающееся\" слово, то обновляем данные\n",
    "    if counter > counter_max:\n",
    "            counter_max = counter\n",
    "            win_words = x\n",
    "            counter = 0\n",
    "    else:\n",
    "            counter = 0 \n",
    "\n",
    "# Выводим самое часто встречающееся слово\n",
    "print(win_words)\n"
   ]
  },
  {
   "cell_type": "code",
   "execution_count": 34,
   "id": "c44a0527",
   "metadata": {},
   "outputs": [
    {
     "name": "stdout",
     "output_type": "stream",
     "text": [
      "cat\n"
     ]
    }
   ],
   "source": [
    "from collections import Counter\n",
    "\n",
    "s = \"cat cat dog cat dog dog cat cat dog dog cat\"\n",
    "\n",
    "# Разбиение строки на слова\n",
    "words = s.split()\n",
    "\n",
    "# Создание объекта Counter и подсчет количества каждого слова\n",
    "counter = Counter(words)\n",
    "\n",
    "# Нахождение самого часто встречающегося слова\n",
    "most_common_word = counter.most_common(1)[0][0]\n",
    "\n",
    "print(most_common_word)\n"
   ]
  },
  {
   "cell_type": "code",
   "execution_count": null,
   "id": "b3245321",
   "metadata": {},
   "outputs": [],
   "source": []
  }
 ],
 "metadata": {
  "kernelspec": {
   "display_name": "Python 3 (ipykernel)",
   "language": "python",
   "name": "python3"
  },
  "language_info": {
   "codemirror_mode": {
    "name": "ipython",
    "version": 3
   },
   "file_extension": ".py",
   "mimetype": "text/x-python",
   "name": "python",
   "nbconvert_exporter": "python",
   "pygments_lexer": "ipython3",
   "version": "3.9.13"
  }
 },
 "nbformat": 4,
 "nbformat_minor": 5
}
