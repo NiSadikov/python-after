{
 "cells": [
  {
   "cell_type": "markdown",
   "id": "1a537946",
   "metadata": {},
   "source": [
    "# Задача 1\n",
    "\n",
    "Вы собрали своего робота, который может писать любые программы. Его первая\n",
    "программа выглядит так:\n",
    "\n",
    "\n",
    "В ответе напишите, что будет выведено при последовательном вводе чисел: 3, 5,\n",
    "4, 3.\n"
   ]
  },
  {
   "cell_type": "code",
   "execution_count": 18,
   "id": "8eed8403",
   "metadata": {},
   "outputs": [
    {
     "name": "stdout",
     "output_type": "stream",
     "text": [
      "3\n",
      "5\n",
      "4\n",
      "3\n",
      "[2, 2, 2]\n"
     ]
    }
   ],
   "source": [
    "n = int(input())\n",
    "a = [0]\n",
    "for i in range(n):\n",
    "    x = int(input())\n",
    "    a = [i] * x\n",
    "print(a)\n",
    "\n"
   ]
  },
  {
   "cell_type": "markdown",
   "id": "8ffc42d4",
   "metadata": {},
   "source": [
    "# Задача 2\n",
    "\n",
    "Ваш робот написал еще одну программу:\n",
    "\n",
    "Что будет выведено в результате работы программы при вводе числа 3?\n"
   ]
  },
  {
   "cell_type": "code",
   "execution_count": 20,
   "id": "b3d7f890",
   "metadata": {},
   "outputs": [
    {
     "name": "stdout",
     "output_type": "stream",
     "text": [
      "3\n",
      "[1, 2, 2]\n"
     ]
    }
   ],
   "source": [
    "n = int(input())\n",
    "a = []\n",
    "for i in range(n):\n",
    "    a = a + [i]*i\n",
    "print(a)"
   ]
  },
  {
   "cell_type": "markdown",
   "id": "8c2e569f",
   "metadata": {},
   "source": [
    "# Задача 3\n",
    "\n",
    "На вход подается число n, затем последовательность из n чисел. Создайте массив,\n",
    "состоящий из чисел этой последовательности. В ответ запишите среднее арифметическое всех элементов массива для n = 5 и последовательности [2, 3, 1, 5, 10]"
   ]
  },
  {
   "cell_type": "code",
   "execution_count": 26,
   "id": "edfa9081",
   "metadata": {},
   "outputs": [
    {
     "name": "stdout",
     "output_type": "stream",
     "text": [
      "5\n",
      "2\n",
      "3\n",
      "1\n",
      "5\n",
      "10\n",
      "4.2\n"
     ]
    }
   ],
   "source": [
    "n = int(input())\n",
    "a = []\n",
    "for i in range(n):\n",
    "    x = int(input())\n",
    "    a = a + [x]\n",
    "print(sum(a)/n)"
   ]
  },
  {
   "cell_type": "markdown",
   "id": "4d46993d",
   "metadata": {},
   "source": [
    "# Задача 4\n",
    "\n",
    "На вход последовательно подаются числа n и m, затем последовательность из\n",
    "n чисел. Создайте массив, состоящий из чисел этой последовательности. Напишите\n",
    "программу, которая выводит элемент с индексом m. В ответ укажите результат работы программы для следующей последовательности: 10, 3, 1, 10, 23, 32, 18, 74, 29, 73, 1, 82"
   ]
  },
  {
   "cell_type": "code",
   "execution_count": 29,
   "id": "cbed3cb3",
   "metadata": {},
   "outputs": [
    {
     "name": "stdout",
     "output_type": "stream",
     "text": [
      "10\n",
      "3\n",
      "1\n",
      "10\n",
      "23\n",
      "32\n",
      "18\n",
      "74\n",
      "29\n",
      "73\n",
      "1\n",
      "82\n",
      "32\n",
      "[1, 10, 23, 32, 18, 74, 29, 73, 1, 82]\n"
     ]
    }
   ],
   "source": [
    "n = int(input())\n",
    "m = int(input())\n",
    "a = []\n",
    "for i in range(n):\n",
    "    x = int(input())\n",
    "    a = a + [x]\n",
    "print(a[m])\n",
    "print(a)"
   ]
  },
  {
   "cell_type": "markdown",
   "id": "cc8a32d2",
   "metadata": {},
   "source": [
    "# Задача 5\n",
    "\n",
    "На вход подается число n, затем последовательность из n чисел. Создайте массив,\n",
    "состоящий из чисел этой последовательности. В ответ запишите сумму чисел массива\n",
    "с шагом два, начиная с 0 элемента. В ответе запишите результат работы программы\n",
    "для последовательности 6, 1, 9, 2, 8, 3, 7"
   ]
  },
  {
   "cell_type": "code",
   "execution_count": 5,
   "id": "06d1487a",
   "metadata": {},
   "outputs": [
    {
     "name": "stdout",
     "output_type": "stream",
     "text": [
      "6\n",
      "1\n",
      "9\n",
      "2\n",
      "8\n",
      "3\n",
      "7\n",
      "6\n"
     ]
    }
   ],
   "source": [
    "n = int(input())\n",
    "a = []\n",
    "b = []\n",
    "for i in range(n):\n",
    "    x = int(input())\n",
    "    a = a + [x]\n",
    "for x in range(n):\n",
    "    if x % 2 == 0:\n",
    "        b = b + [a[x]]\n",
    "print(sum(b))"
   ]
  },
  {
   "cell_type": "code",
   "execution_count": null,
   "id": "3364299c",
   "metadata": {},
   "outputs": [],
   "source": []
  }
 ],
 "metadata": {
  "kernelspec": {
   "display_name": "Python 3 (ipykernel)",
   "language": "python",
   "name": "python3"
  },
  "language_info": {
   "codemirror_mode": {
    "name": "ipython",
    "version": 3
   },
   "file_extension": ".py",
   "mimetype": "text/x-python",
   "name": "python",
   "nbconvert_exporter": "python",
   "pygments_lexer": "ipython3",
   "version": "3.9.13"
  }
 },
 "nbformat": 4,
 "nbformat_minor": 5
}
