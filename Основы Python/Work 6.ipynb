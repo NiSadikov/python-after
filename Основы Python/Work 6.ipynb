{
 "cells": [
  {
   "cell_type": "markdown",
   "id": "91f122ae",
   "metadata": {},
   "source": [
    "# Задача 1\n",
    "\n",
    "На вход с клавитуры подаётся число n. Выведите все числа, которые делятся на\n",
    "3 и не делятся на 6 в промежутке [0; n]. В ответе запишите вывод программы для\n",
    "n = 20"
   ]
  },
  {
   "cell_type": "code",
   "execution_count": 11,
   "id": "00815f47",
   "metadata": {},
   "outputs": [
    {
     "name": "stdout",
     "output_type": "stream",
     "text": [
      "20\n",
      "3\n",
      "9\n",
      "15\n"
     ]
    }
   ],
   "source": [
    "n = int(input())\n",
    "for i in range(n+1):\n",
    "    if i % 3 == 0 and i % 6 != 0:\n",
    "        print(i)\n"
   ]
  },
  {
   "cell_type": "markdown",
   "id": "c0e88285",
   "metadata": {},
   "source": [
    "# Задача 2\n",
    "\n",
    "На вход с клавитуры подаётся число n. Выведите все числа, у которых последняя\n",
    "цифра чётная в промежутке [10; n]. В ответе запишите вывод программы для n =\n",
    "17"
   ]
  },
  {
   "cell_type": "code",
   "execution_count": 12,
   "id": "5e705bf2",
   "metadata": {},
   "outputs": [
    {
     "name": "stdout",
     "output_type": "stream",
     "text": [
      "17\n",
      "10\n",
      "12\n",
      "14\n",
      "16\n"
     ]
    }
   ],
   "source": [
    "n = int(input())\n",
    "for i in range(10, n+1):\n",
    "    if (i % 10) % 2 == 0: \n",
    "        print(i)\n"
   ]
  },
  {
   "cell_type": "markdown",
   "id": "882f6303",
   "metadata": {},
   "source": [
    "# Задача 3\n",
    "\n",
    "На вход с клавиатуры подаётся число n. Если число n - чётное, нужно вывести\n",
    "количество чётных чисел от 1 до n включительно, иначе - вывести сумму нечётных\n",
    "чисел от 1 до n включительно.\n",
    "В ответе запишите два числа: сначала вывод программы для n = 100, затем через\n",
    "пробел вывод программы для n = 99"
   ]
  },
  {
   "cell_type": "code",
   "execution_count": 17,
   "id": "9653312d",
   "metadata": {},
   "outputs": [
    {
     "name": "stdout",
     "output_type": "stream",
     "text": [
      "99\n",
      "2500\n"
     ]
    }
   ],
   "source": [
    "n = int(input())\n",
    "x = 0\n",
    "counter = 0\n",
    "if n % 2 == 0: \n",
    "    for i in range(1, n+1):\n",
    "        if i % 2 == 0:\n",
    "            counter += 1\n",
    "    print(counter)\n",
    "else:\n",
    "    for i in range(1, n+1):\n",
    "        if i % 2 != 0:\n",
    "            x += i\n",
    "    print(x)\n",
    "    \n",
    "#Ответ: 50, 2500"
   ]
  },
  {
   "cell_type": "markdown",
   "id": "1ab65333",
   "metadata": {},
   "source": [
    "# Задача 4\n",
    "\n",
    "На вход с клавиатуры подается число n. Если n делится на 3, считайте еще одно\n",
    "число m от пользователя и выведите количество чисел, кратных m, в промежутке [1;\n",
    "n], иначе - выведите через пробел степени числа n от 1 до n ($n^{i}$\n",
    ", где i перебирается\n",
    "в промежутке [1; n])\n",
    "В ответе запишите сначала вывод программы для n = 8, затем через пробел вывод\n",
    "программы для n = 99 и m = 7"
   ]
  },
  {
   "cell_type": "code",
   "execution_count": 31,
   "id": "351ab983",
   "metadata": {},
   "outputs": [
    {
     "name": "stdout",
     "output_type": "stream",
     "text": [
      "99\n",
      "7\n",
      "14\n"
     ]
    }
   ],
   "source": [
    "n = int(input())\n",
    "counter = 0\n",
    "if n % 3 == 0: \n",
    "    m = int(input())\n",
    "    for x in range(1, n+1):\n",
    "        if x % m == 0:\n",
    "            counter += 1\n",
    "    print(counter)\n",
    "else: \n",
    "    for x in range(1, n+1):\n",
    "        print(n**x, end=' ')\n",
    "        \n",
    "# Ответ: 8 64 512 4096 32768 262144 2097152 16777216 14"
   ]
  },
  {
   "cell_type": "markdown",
   "id": "d91e73c2",
   "metadata": {},
   "source": [
    "# Задача 5\n",
    "\n",
    "\n",
    "На вход с клавиатуры подаются 3 натуральных числа: a, b и n. Затем подаётся n\n",
    "натуральных чисел. Вам нужно вывести количество чисел, которые удовлетворяют\n",
    "теореме Пифагора, где число из последовательности - это гипотенуза, а катеты -\n",
    "это ранее поданные a и b. Кроме того, нужно проверить, что число из последовательности больше 10 и делится на 3 или 4. В ответе укажите вывод программы для\n",
    "последовательности (числа подаются через Enter):\n",
    "12, 16, 10, 20, 12, 11, 1, 19, 7, 10, 21, 22, 18"
   ]
  },
  {
   "cell_type": "code",
   "execution_count": 33,
   "id": "a09dd78e",
   "metadata": {},
   "outputs": [
    {
     "name": "stdout",
     "output_type": "stream",
     "text": [
      "12\n",
      "16\n",
      "10\n",
      "20\n",
      "12\n",
      "11\n",
      "1\n",
      "19\n",
      "7\n",
      "10\n",
      "21\n",
      "22\n",
      "18\n",
      "1\n"
     ]
    }
   ],
   "source": [
    "a = int(input())\n",
    "b = int(input())\n",
    "n = int(input())\n",
    "counter = 0\n",
    "for x in range(n):\n",
    "    d = int(input())\n",
    "    if d > 10 and (d % 3 == 0 or d % 4 == 0): \n",
    "        if (a ** 2 + b**2 == d**2):\n",
    "            counter += 1\n",
    "print(counter)"
   ]
  },
  {
   "cell_type": "code",
   "execution_count": null,
   "id": "07b51863",
   "metadata": {},
   "outputs": [],
   "source": []
  }
 ],
 "metadata": {
  "kernelspec": {
   "display_name": "Python 3 (ipykernel)",
   "language": "python",
   "name": "python3"
  },
  "language_info": {
   "codemirror_mode": {
    "name": "ipython",
    "version": 3
   },
   "file_extension": ".py",
   "mimetype": "text/x-python",
   "name": "python",
   "nbconvert_exporter": "python",
   "pygments_lexer": "ipython3",
   "version": "3.9.13"
  }
 },
 "nbformat": 4,
 "nbformat_minor": 5
}
