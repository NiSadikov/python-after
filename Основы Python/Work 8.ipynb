{
 "cells": [
  {
   "cell_type": "markdown",
   "id": "7ffb579a",
   "metadata": {},
   "source": [
    "# Задача 1\n",
    "\n",
    "Вы пришли на собеседование в лучшую IT-компанию в мире. На собеседовании\n",
    "Вы и один из кандидатов написали одну и ту же программу, поэтому вам устроили\n",
    "дополнительное испытание: сделать программу более эффективной. Ваша задача записать сумму\n",
    "квадратов чисел от 1 до 100 в одну строчку."
   ]
  },
  {
   "cell_type": "code",
   "execution_count": 34,
   "id": "ac5e3b00",
   "metadata": {},
   "outputs": [
    {
     "name": "stdout",
     "output_type": "stream",
     "text": [
      "338350\n"
     ]
    }
   ],
   "source": [
    "print(sum([x**2 for x in range(1,101)]))"
   ]
  },
  {
   "cell_type": "markdown",
   "id": "1cb0c267",
   "metadata": {},
   "source": [
    "# Задача 2\n",
    "\n",
    "Ваш компьютер взломали, поменяли пароль, но оставили подсказку в виде программы. Результат вывода программы и есть Ваш пароль:\n",
    "\n"
   ]
  },
  {
   "cell_type": "code",
   "execution_count": 35,
   "id": "3a5cb0dd",
   "metadata": {},
   "outputs": [
    {
     "name": "stdout",
     "output_type": "stream",
     "text": [
      "[0, 8, 16, 24, 32]\n"
     ]
    }
   ],
   "source": [
    "a = [i for i in range(0,20,2)]\n",
    "b = [x*2 for x in a]\n",
    "c = b[::2]\n",
    "print(c)"
   ]
  },
  {
   "cell_type": "markdown",
   "id": "d49dc562",
   "metadata": {},
   "source": [
    "# Задача 3\n",
    "\n",
    "Напишите генератор, который считает количество четных чисел на промежутке\n",
    "от 1 до 20 включительно. В ответе запишите это количество\n",
    "\n"
   ]
  },
  {
   "cell_type": "code",
   "execution_count": 36,
   "id": "a8e803de",
   "metadata": {},
   "outputs": [
    {
     "name": "stdout",
     "output_type": "stream",
     "text": [
      "10\n"
     ]
    }
   ],
   "source": [
    "print(len([i for i in range(1, 21) if i % 2 == 0]))"
   ]
  },
  {
   "cell_type": "markdown",
   "id": "606305e8",
   "metadata": {},
   "source": [
    "# Задача 4\n",
    "\n",
    "Напишите генератор, который идет по массиву с шагом 2, считая количество четных чисел. В ответе запишите количество таких чисел для массива [64, 8, 72, 1, 56,\n",
    "78, 7, 59, 9, 80]\n"
   ]
  },
  {
   "cell_type": "code",
   "execution_count": 37,
   "id": "0e5b1e40",
   "metadata": {},
   "outputs": [
    {
     "name": "stdout",
     "output_type": "stream",
     "text": [
      "3\n"
     ]
    }
   ],
   "source": [
    "print(len([x for x in [[64, 8, 72, 1, 56, 78, 7, 59, 9, 80][x] for x in range(len([64, 8, 72, 1, 56, 78, 7, 59, 9, 80])) if x % 2 == 0]  if x % 2 == 0]))\n"
   ]
  },
  {
   "cell_type": "markdown",
   "id": "0c5cd1fa",
   "metadata": {},
   "source": [
    "# Задача 5\n",
    "\n",
    "Напишите генератор, который возвращает все числа от 1 до 1000, которые делятся\n",
    "на 7 или на 11 без остатка. В ответе укажите количество таких чисел\n"
   ]
  },
  {
   "cell_type": "code",
   "execution_count": 38,
   "id": "36b61ff3",
   "metadata": {},
   "outputs": [
    {
     "name": "stdout",
     "output_type": "stream",
     "text": [
      "220\n"
     ]
    }
   ],
   "source": [
    "a = [x for x in range (1, 1001) if x % 7 == 0 or x % 11 == 0]\n",
    "print(len(a))"
   ]
  }
 ],
 "metadata": {
  "kernelspec": {
   "display_name": "Python 3 (ipykernel)",
   "language": "python",
   "name": "python3"
  },
  "language_info": {
   "codemirror_mode": {
    "name": "ipython",
    "version": 3
   },
   "file_extension": ".py",
   "mimetype": "text/x-python",
   "name": "python",
   "nbconvert_exporter": "python",
   "pygments_lexer": "ipython3",
   "version": "3.9.13"
  }
 },
 "nbformat": 4,
 "nbformat_minor": 5
}
