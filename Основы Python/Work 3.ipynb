{
 "cells": [
  {
   "cell_type": "markdown",
   "id": "f124b52c",
   "metadata": {},
   "source": [
    "# Задача 1\n",
    "\n",
    "Ниже приведена программа, записанная на языке программирования Python. Что выведет программа при x = 10 и y = 13. "
   ]
  },
  {
   "cell_type": "code",
   "execution_count": 18,
   "id": "6ff3d604",
   "metadata": {},
   "outputs": [
    {
     "name": "stdout",
     "output_type": "stream",
     "text": [
      "10\n",
      "13\n",
      "True\n"
     ]
    }
   ],
   "source": [
    "x = int(input())\n",
    "y = int(input())\n",
    "if x >= 5 and y < 25:\n",
    "    print('True')\n",
    "else:\n",
    "    print('False')"
   ]
  },
  {
   "cell_type": "markdown",
   "id": "7357df4f",
   "metadata": {},
   "source": [
    "# Задача 2\n",
    "\n",
    "Вы создаёте сайт с авторизацией и Вам нужно, чтобы у пользователя были логин\n",
    "и пароль. Для безопасноти Вы запрашиваете ввод пароля два раза. Напишите программу, которая будет проверять пароль и его подтверждение на совпадение. Если\n",
    "все в порядке - вывести ’True’, если нет - ’False’. В ответе запишите результат\n",
    "работы для такого пароля: 8b66bBT67-NVbds8_23dlsa-02EcxjKseQ и его подтверждения: 8b66bBT67-NVbds8_23dIsa-02EcxjKseQ\n",
    "\n",
    "\n"
   ]
  },
  {
   "cell_type": "code",
   "execution_count": 22,
   "id": "25fe3e2c",
   "metadata": {},
   "outputs": [
    {
     "name": "stdout",
     "output_type": "stream",
     "text": [
      "8b66bBT67-NVbds8_23dlsa-02EcxjKseQ\n",
      "8b66bBT67-NVbds8_23dIsa-02EcxjKseQ\n",
      "False\n"
     ]
    }
   ],
   "source": [
    "password1 = input()\n",
    "password2 = input()\n",
    "\n",
    "if password1 == password2:\n",
    "    print('True')\n",
    "else: \n",
    "    print('False')"
   ]
  },
  {
   "cell_type": "markdown",
   "id": "a9dec6a6",
   "metadata": {},
   "source": [
    "# Задача 3\n",
    "\n",
    "На вход с клавиатуры подаются 4 числа. Напишите программу, которая находит\n",
    "минимальное из них. В ответе запишите результат работы программы для чисел\n",
    "12, 10, 5 и 21"
   ]
  },
  {
   "cell_type": "code",
   "execution_count": 24,
   "id": "8d6596c3",
   "metadata": {},
   "outputs": [
    {
     "name": "stdout",
     "output_type": "stream",
     "text": [
      "12\n",
      "10\n",
      "5\n",
      "21\n",
      "5\n"
     ]
    }
   ],
   "source": [
    "number1 = int(input())\n",
    "number2 = int(input())\n",
    "number3 = int(input())\n",
    "number4 = int(input())\n",
    "\n",
    "print(min(number1, number2, number3, number4))"
   ]
  },
  {
   "cell_type": "markdown",
   "id": "aa49a6af",
   "metadata": {},
   "source": [
    "# Задача 4\n",
    "\n",
    "На вход с клавиатуры подаются 4 числа. Напишите программу, которая находит\n",
    "максимальное из них. В ответе запишите результат работы программы для чисел\n",
    "21, 1, 30 и 12"
   ]
  },
  {
   "cell_type": "code",
   "execution_count": 25,
   "id": "2f0f42e4",
   "metadata": {},
   "outputs": [
    {
     "name": "stdout",
     "output_type": "stream",
     "text": [
      "21\n",
      "1\n",
      "30\n",
      "12\n",
      "30\n"
     ]
    }
   ],
   "source": [
    "number1 = int(input())\n",
    "number2 = int(input())\n",
    "number3 = int(input())\n",
    "number4 = int(input())\n",
    "\n",
    "print(max(number1, number2, number3, number4))"
   ]
  },
  {
   "cell_type": "markdown",
   "id": "629c3ca3",
   "metadata": {},
   "source": [
    "# Задача 5\n",
    "\n",
    "На вход с клавиатуры подаются 3 числа. Напишите программу, которая определяет, что треугольник с такими сторонами существует. Если такой треугольник\n",
    "существует - вывести ’True’, если нет - ’False’. Ответ запишите для чисел: 13, 19\n",
    "и 15"
   ]
  },
  {
   "cell_type": "code",
   "execution_count": 33,
   "id": "c7aea3b5",
   "metadata": {},
   "outputs": [
    {
     "name": "stdout",
     "output_type": "stream",
     "text": [
      "13\n",
      "19\n",
      "15\n",
      "True\n"
     ]
    }
   ],
   "source": [
    "a = int(input())\n",
    "b = int(input())\n",
    "c = int(input())\n",
    "if (a+b) > c and (a+c) > b and (b+c)> a:\n",
    "    print('True')\n",
    "else:\n",
    "    print('False')"
   ]
  },
  {
   "cell_type": "markdown",
   "id": "dac5828e",
   "metadata": {},
   "source": [
    "# Задача 6\n",
    "\n",
    "На вход с клавиатуры подаются 3 числа. Напишите программу, которая определяет вид треугольника (разносторонний, равносторонний, вырожденный или равнобедренный) с такими сторонами. В ответе укажите вид треугольника для чисел\n",
    "10, 13 и 23\n"
   ]
  },
  {
   "cell_type": "code",
   "execution_count": 36,
   "id": "15ea5130",
   "metadata": {},
   "outputs": [
    {
     "name": "stdout",
     "output_type": "stream",
     "text": [
      "10\n",
      "13\n",
      "23\n",
      "Вырожденный\n"
     ]
    }
   ],
   "source": [
    "a = int(input())\n",
    "b = int(input())\n",
    "c = int(input())\n",
    "\n",
    "if (a+b) <= c or (a+c) <= b or (b+c) <= a:\n",
    "    print('Вырожденный')\n",
    "elif (a == b == c):\n",
    "    print('Равносторонний')\n",
    "elif (a == b) or (b == c) or (c == a):\n",
    "    print ('Равнобедренный')\n",
    "else: \n",
    "    print('Разносторонний')"
   ]
  },
  {
   "cell_type": "markdown",
   "id": "add6ff16",
   "metadata": {},
   "source": [
    "# Задача 7\n",
    "\n",
    "На вход с клавиатуры подаются 4 числа: a, b, c и d. Даны два отрезка на числовой\n",
    "прямой [a, b] и [c, d]. Напишите программу, которая считает количество целых точек, являющихся пересечением этих отрезков. В ответе запишите результат работы\n",
    "программы для a = 3, b = 13, c = 7 и d = 17"
   ]
  },
  {
   "cell_type": "code",
   "execution_count": 41,
   "id": "4672bc61",
   "metadata": {},
   "outputs": [
    {
     "name": "stdout",
     "output_type": "stream",
     "text": [
      "3\n",
      "13\n",
      "7\n",
      "17\n",
      "7\n"
     ]
    }
   ],
   "source": [
    "# Для опредленности будем считать, что подаются только целые положительные числа, причём b>a, d>c\n",
    "\n",
    "a = int(input())\n",
    "b = int(input())\n",
    "c = int(input())\n",
    "d = int(input())\n",
    "\n",
    "\n",
    "if c <= b and a <= d: #Проверка на пересечение \n",
    "    print(min(b,d) - max(a,c) + 1)\n",
    "else: \n",
    "    print(0)"
   ]
  },
  {
   "cell_type": "code",
   "execution_count": null,
   "id": "67f1f8ef",
   "metadata": {},
   "outputs": [],
   "source": []
  }
 ],
 "metadata": {
  "kernelspec": {
   "display_name": "Python 3 (ipykernel)",
   "language": "python",
   "name": "python3"
  },
  "language_info": {
   "codemirror_mode": {
    "name": "ipython",
    "version": 3
   },
   "file_extension": ".py",
   "mimetype": "text/x-python",
   "name": "python",
   "nbconvert_exporter": "python",
   "pygments_lexer": "ipython3",
   "version": "3.9.13"
  }
 },
 "nbformat": 4,
 "nbformat_minor": 5
}
