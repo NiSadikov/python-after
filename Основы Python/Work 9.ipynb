{
 "cells": [
  {
   "cell_type": "markdown",
   "id": "85fe5557",
   "metadata": {},
   "source": [
    "# Задача 1 \n",
    "\n",
    "Напишите программу, которая выводит таблицу умножения от 1 до 10 включительно, размера 10 ×10"
   ]
  },
  {
   "cell_type": "code",
   "execution_count": 58,
   "id": "e7a6a4bc",
   "metadata": {},
   "outputs": [
    {
     "name": "stdout",
     "output_type": "stream",
     "text": [
      "1 2 3 4 5 6 7 8 9 10 \n",
      "2 4 6 8 10 12 14 16 18 20 \n",
      "3 6 9 12 15 18 21 24 27 30 \n",
      "4 8 12 16 20 24 28 32 36 40 \n",
      "5 10 15 20 25 30 35 40 45 50 \n",
      "6 12 18 24 30 36 42 48 54 60 \n",
      "7 14 21 28 35 42 49 56 63 70 \n",
      "8 16 24 32 40 48 56 64 72 80 \n",
      "9 18 27 36 45 54 63 72 81 90 \n",
      "10 20 30 40 50 60 70 80 90 100 \n"
     ]
    }
   ],
   "source": [
    "for x in range(1,11):\n",
    "    for i in range(1,11):\n",
    "            print(x*i, end = ' ')\n",
    "    print()"
   ]
  },
  {
   "cell_type": "markdown",
   "id": "e2c4a05f",
   "metadata": {},
   "source": [
    "# Задача 2\n",
    "\n",
    "Напишите программу, которая находит все «пифагоровы тройки» в заданном диапазоне чисел – натуральные решения уравнения $x^{2} + y^{2} = k^{2}$, где x, y и k лежат в\n",
    "интервале от l до r включительно. В ответе напишите количество троек, удовлетворяющих условию, для l = 10, r = 50"
   ]
  },
  {
   "cell_type": "code",
   "execution_count": 41,
   "id": "a315042c",
   "metadata": {},
   "outputs": [
    {
     "name": "stdout",
     "output_type": "stream",
     "text": [
      "10\n",
      "50\n",
      "26\n"
     ]
    }
   ],
   "source": [
    "l = int(input())\n",
    "r = int(input())\n",
    "i = 0\n",
    "for x in range(l, r+1):\n",
    "    for y in range(l, r+1):\n",
    "        for k in range(l, r+1):\n",
    "            if x**2+y**2 == k**2:\n",
    "                k += 1\n",
    "print()        "
   ]
  },
  {
   "cell_type": "markdown",
   "id": "2f0bd64c",
   "metadata": {},
   "source": [
    "# Задача 3\n",
    "\n",
    "Два различных натуральных числа называются дружественными, если первое из\n",
    "них равно сумме делителей второго числа, за исключением самого второго числа, а\n",
    "второе равно сумме делителей первого числа, за исключением самого первого числа.\n",
    "Напишите программу, которая находит все пары натуральных дружественных чисел\n",
    "(не равных друг другу). Оба числа пары должны быть меньше, чем введенное с\n",
    "клавиатуры число N. В ответе запишите результат работы для N = 300.\n",
    "Замечание: перестановки не считать разными парами. Например, 18 13 и 13 18 - одна и та же пара"
   ]
  },
  {
   "cell_type": "code",
   "execution_count": 6,
   "id": "b6e910bc",
   "metadata": {
    "scrolled": true
   },
   "outputs": [
    {
     "name": "stdout",
     "output_type": "stream",
     "text": [
      "300\n",
      "220 284\n"
     ]
    }
   ],
   "source": [
    "N = int(input())\n",
    "for x in range(1,N+1):\n",
    "    b = [y for y in range(1, x) if x % y == 0]\n",
    "    k = sum(b)\n",
    "    if x != k and x < k and sum(y for y in range(1, k) if k % y == 0) == x:\n",
    "        print(x, k)"
   ]
  },
  {
   "cell_type": "markdown",
   "id": "9fcd70c2",
   "metadata": {},
   "source": [
    "# Задача 4\n",
    "\n",
    "Натуральное число из n цифр является число Армстронга, если сумма его цифр,\n",
    "возведенных в степень n, равна самому числу. Например, $153 = 1^{3} + 5^{3} + 3^{3}$ для\n",
    "n = 3. Напишите программу, которая находит все числа Армстронга для n = 4. В\n",
    "ответе запишите все эти числа через пробел."
   ]
  },
  {
   "cell_type": "code",
   "execution_count": 5,
   "id": "90047cac",
   "metadata": {},
   "outputs": [
    {
     "name": "stdout",
     "output_type": "stream",
     "text": [
      "4\n",
      "1634\n",
      "8208\n",
      "9474\n"
     ]
    }
   ],
   "source": [
    "n = int(input())\n",
    "start = 10 ** (n - 1)\n",
    "end = 10 ** n\n",
    "for i in range(start, end):\n",
    "    b = [int(x)**n for x in str(i)]\n",
    "    if sum(b) == i:\n",
    "        print(i)"
   ]
  }
 ],
 "metadata": {
  "kernelspec": {
   "display_name": "Python 3 (ipykernel)",
   "language": "python",
   "name": "python3"
  },
  "language_info": {
   "codemirror_mode": {
    "name": "ipython",
    "version": 3
   },
   "file_extension": ".py",
   "mimetype": "text/x-python",
   "name": "python",
   "nbconvert_exporter": "python",
   "pygments_lexer": "ipython3",
   "version": "3.9.13"
  }
 },
 "nbformat": 4,
 "nbformat_minor": 5
}
