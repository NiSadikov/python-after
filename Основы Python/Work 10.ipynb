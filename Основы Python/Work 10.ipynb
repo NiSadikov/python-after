{
 "cells": [
  {
   "cell_type": "markdown",
   "id": "5fc4d169",
   "metadata": {},
   "source": [
    "# Задача 1\n",
    "\n",
    "Напишите функцию для суммирования чисел в массиве. В ответ запишите результат работы функции для массива: [1, 7, 42, 12, 10, 1, 4, 0]\n"
   ]
  },
  {
   "cell_type": "code",
   "execution_count": 9,
   "id": "0e11f6a0",
   "metadata": {},
   "outputs": [
    {
     "name": "stdout",
     "output_type": "stream",
     "text": [
      "77\n"
     ]
    }
   ],
   "source": [
    "s = [1,7,42,12,10,1,4,0]\n",
    "\n",
    "def summ(s):\n",
    "    answer = 0\n",
    "    for i in range(len(s)):\n",
    "        answer += s[i]\n",
    "    return answer\n",
    "\n",
    "print(summ(s))"
   ]
  },
  {
   "cell_type": "markdown",
   "id": "2931c1ba",
   "metadata": {},
   "source": [
    "# Задача 2\n",
    "\n",
    "Напишите функцию, которая проверяет, находится ли число в заданном диапазоне. В ответе запишите результат работы функции для числа 7 в диапазоне [1, 9]"
   ]
  },
  {
   "cell_type": "code",
   "execution_count": 10,
   "id": "265b6c96",
   "metadata": {},
   "outputs": [
    {
     "name": "stdout",
     "output_type": "stream",
     "text": [
      "True\n"
     ]
    }
   ],
   "source": [
    "def scope(start, end, number):\n",
    "    if number >= start and number <= end:\n",
    "        return True\n",
    "    else:\n",
    "        return False\n",
    "    \n",
    "print(dip(1,9,7))"
   ]
  },
  {
   "cell_type": "markdown",
   "id": "4f2d4df4",
   "metadata": {},
   "source": [
    "# Задача 3\n",
    "\n",
    "Напишите функцию, которая проверяет, является ли число совершенным (совершенное число - это положительное число, которая равно сумме его положительных\n",
    "делителей, исключая само число. Первое совершенное число - 6, сумма делителей 1 + 2 + 3 = 6) и выводит булево значение (True - если число простое, False - если нет).\n",
    "В ответе укажите значение, которая выдаст функция для числа 8128"
   ]
  },
  {
   "cell_type": "code",
   "execution_count": 11,
   "id": "6500d35e",
   "metadata": {},
   "outputs": [
    {
     "name": "stdout",
     "output_type": "stream",
     "text": [
      "True\n"
     ]
    }
   ],
   "source": [
    "def perfect(n):\n",
    "    return sum([x for x in range(1,n) if n % x == 0]) == n\n",
    "\n",
    "print(perfect(8128))"
   ]
  },
  {
   "cell_type": "markdown",
   "id": "be2272df",
   "metadata": {},
   "source": [
    "# Задача 4 \n",
    "\n",
    "Напишите функцию, которая проверяет, является ли число палиндромом (палиндром - одно и то же значение если читать слева направо и справа налево) и выводит\n",
    "булево значение (True - если число простое, False - если нет). В ответе укажите\n",
    "значение, которое выдаст функция на числе 1234567899876554321"
   ]
  },
  {
   "cell_type": "code",
   "execution_count": 12,
   "id": "7c83b8c8",
   "metadata": {},
   "outputs": [
    {
     "name": "stdout",
     "output_type": "stream",
     "text": [
      "False\n"
     ]
    }
   ],
   "source": [
    "def palindrome(n):\n",
    "    n_str = str(n)\n",
    "    return n_str == n_str[::-1]\n",
    "\n",
    "print(palindrome(1234567899876554321))"
   ]
  },
  {
   "cell_type": "markdown",
   "id": "43da9262",
   "metadata": {},
   "source": [
    "# Задача 5\n",
    "\n",
    "Напишите функцию, которая проверяет число на простоту и выводит булево значение (True - если число простое, False - если нет). В ответе укажите значение,\n",
    "которое выдаст функция для числа 123321"
   ]
  },
  {
   "cell_type": "code",
   "execution_count": 13,
   "id": "6b9b015d",
   "metadata": {},
   "outputs": [
    {
     "name": "stdout",
     "output_type": "stream",
     "text": [
      "False\n"
     ]
    }
   ],
   "source": [
    "def simple(n):\n",
    "    return len([x for x in range(1,n+1) if n % x == 0]) == 2\n",
    "\n",
    "print(simple(123321))"
   ]
  },
  {
   "cell_type": "markdown",
   "id": "31f7ef01",
   "metadata": {},
   "source": [
    "# Задача 6 \n",
    "\n",
    "На вход с клавиатуры подается положительное число N. Напишите программу,\n",
    "которая находит число Фибоначчи с индексом N (числа Фибоначчи считаются по\n",
    "формуле: F(n) = F(n-1) + F(n-2), F(1) = 0, F(2) = 1, F(3) = 1). Ответ укажите для\n",
    "N = 10\n",
    "\n"
   ]
  },
  {
   "cell_type": "code",
   "execution_count": 14,
   "id": "2d9badbb",
   "metadata": {},
   "outputs": [
    {
     "name": "stdout",
     "output_type": "stream",
     "text": [
      "34\n"
     ]
    }
   ],
   "source": [
    "def Fibonacci(n):\n",
    "    if n == 1:\n",
    "        return(0)\n",
    "    if n == 2 or n == 3:\n",
    "        return(1)\n",
    "    else:\n",
    "        return Fibonacci(n-1) + Fibonacci(n-2)\n",
    "    \n",
    "\n",
    "print(Fibonacci(10))"
   ]
  }
 ],
 "metadata": {
  "kernelspec": {
   "display_name": "Python 3 (ipykernel)",
   "language": "python",
   "name": "python3"
  },
  "language_info": {
   "codemirror_mode": {
    "name": "ipython",
    "version": 3
   },
   "file_extension": ".py",
   "mimetype": "text/x-python",
   "name": "python",
   "nbconvert_exporter": "python",
   "pygments_lexer": "ipython3",
   "version": "3.9.13"
  }
 },
 "nbformat": 4,
 "nbformat_minor": 5
}
