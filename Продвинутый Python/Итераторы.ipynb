{
 "cells": [
  {
   "cell_type": "markdown",
   "id": "9dff057c",
   "metadata": {},
   "source": [
    "# Задача 1 \n",
    "\n",
    "Ваш робот написал очередную программу. В ответе запишите результат работы програмы"
   ]
  },
  {
   "cell_type": "code",
   "execution_count": 1,
   "id": "abb8193e",
   "metadata": {},
   "outputs": [
    {
     "name": "stdout",
     "output_type": "stream",
     "text": [
      "4 1\n",
      "5 6\n"
     ]
    }
   ],
   "source": [
    "a = [2, 4, 6, 8]\n",
    "b = {1, 3, 5, 7}\n",
    "a_itera = iter(a)\n",
    "b_iterb = iter(b)\n",
    "next(iter(a_itera))\n",
    "print(next(iter(a_itera)), next(iter(b_iterb)))\n",
    "next(iter(b_iterb))\n",
    "print(next(iter(b_iterb)), next(iter(a_itera)))"
   ]
  },
  {
   "cell_type": "markdown",
   "id": "4954b99b",
   "metadata": {},
   "source": [
    "# Задача 2\n",
    "\n",
    "Что выведет данная программа?"
   ]
  },
  {
   "cell_type": "code",
   "execution_count": 2,
   "id": "21373842",
   "metadata": {},
   "outputs": [
    {
     "name": "stdout",
     "output_type": "stream",
     "text": [
      "П\n",
      "П\n",
      "Ш\n"
     ]
    }
   ],
   "source": [
    "str='ППШ'\n",
    "iterator=iter(str)\n",
    "for x in iterator:\n",
    "    print(x)"
   ]
  },
  {
   "cell_type": "markdown",
   "id": "beae9d8e",
   "metadata": {},
   "source": [
    "# Задача 3 \n",
    "\n",
    "Что выведет данная программа?"
   ]
  },
  {
   "cell_type": "code",
   "execution_count": 3,
   "id": "7f5f33d8",
   "metadata": {},
   "outputs": [
    {
     "name": "stdout",
     "output_type": "stream",
     "text": [
      "bee\n"
     ]
    }
   ],
   "source": [
    "d = {1: 'bee', 2: 'raccoon', 3: 'snake'}\n",
    "iterator = iter(d)\n",
    "print(d[next(iterator)])"
   ]
  },
  {
   "cell_type": "markdown",
   "id": "c08dd56e",
   "metadata": {},
   "source": [
    "# Задача 4\n",
    "\n",
    "Что выведет данная программа?"
   ]
  },
  {
   "cell_type": "code",
   "execution_count": 4,
   "id": "407534dd",
   "metadata": {},
   "outputs": [
    {
     "name": "stdout",
     "output_type": "stream",
     "text": [
      "True\n",
      "False\n"
     ]
    }
   ],
   "source": [
    "a = [int(s) for s in range(1, 20)]\n",
    "iterator = iter(a)\n",
    "print(9 in iterator)\n",
    "print(9 in iterator)\n",
    "\n",
    "# Операция in для итератора продвигает его вперёд,\n",
    "# пока не найдет элемент или не дойдет до конца. \n",
    "# Поэтому, когда вы проверяете 9 in iterator второй раз,\n",
    "# вы начинаете с места, где остановились в прошлый раз, \n",
    "# и так как 9 уже было пройдено, он его не найдет, и вы получите False."
   ]
  },
  {
   "cell_type": "markdown",
   "id": "82f5ede9",
   "metadata": {},
   "source": [
    "# Задача 5\n",
    "Что выведет данная программа?"
   ]
  },
  {
   "cell_type": "code",
   "execution_count": 6,
   "id": "67d6dc28",
   "metadata": {},
   "outputs": [
    {
     "name": "stdout",
     "output_type": "stream",
     "text": [
      "1 4 16\n"
     ]
    }
   ],
   "source": [
    "a = (i ** 2 for i in range (10) if i % 3 != 0)\n",
    "print(next(a), end = ' ')\n",
    "print(next(a), end = ' ')\n",
    "print(next(a))\n"
   ]
  },
  {
   "cell_type": "markdown",
   "id": "e24fe126",
   "metadata": {},
   "source": [
    "# Задача 6\n",
    "\n",
    "Напишите настоящий генератор, который возводит в квадрат целые числа от 1\n",
    "до 5 включительно. Выведите элементы с индексами 0, 2 и 4, не используя циклы\n",
    "программы. В ответе укажите эти значения через пробел."
   ]
  },
  {
   "cell_type": "code",
   "execution_count": 7,
   "id": "ced3a707",
   "metadata": {},
   "outputs": [
    {
     "name": "stdout",
     "output_type": "stream",
     "text": [
      "1 9 25\n"
     ]
    }
   ],
   "source": [
    "a = (x**2 for x in range(1,6))\n",
    "print(next(a), end=' ')\n",
    "next(a)\n",
    "print(next(a), end = ' ')\n",
    "next(a)\n",
    "print(next(a))"
   ]
  },
  {
   "cell_type": "markdown",
   "id": "42ab5e8c",
   "metadata": {},
   "source": [
    "# Задача 7\n",
    "\n",
    "Реализуйте генератор итератор колоды карт (36 штук). Каждая карта выводится\n",
    "в виде строки, например, «6 Крести». При вызове next будет выведена следующая\n",
    "карта. По окончании перебора всей колоды будет выведено Stop iteration"
   ]
  },
  {
   "cell_type": "code",
   "execution_count": 8,
   "id": "e4261abc",
   "metadata": {},
   "outputs": [
    {
     "name": "stdout",
     "output_type": "stream",
     "text": [
      "6 Пики\n",
      "7 Пики\n",
      "8 Пики\n",
      "9 Пики\n",
      "10 Пики\n",
      "валет Пики\n",
      "дама Пики\n",
      "король Пики\n",
      "туз Пики\n",
      "6 Трефы\n",
      "7 Трефы\n",
      "8 Трефы\n",
      "9 Трефы\n",
      "10 Трефы\n",
      "валет Трефы\n",
      "дама Трефы\n",
      "король Трефы\n",
      "туз Трефы\n",
      "6 Бубны\n",
      "7 Бубны\n",
      "8 Бубны\n",
      "9 Бубны\n",
      "10 Бубны\n",
      "валет Бубны\n",
      "дама Бубны\n",
      "король Бубны\n",
      "туз Бубны\n",
      "6 Черви\n",
      "7 Черви\n",
      "8 Черви\n",
      "9 Черви\n",
      "10 Черви\n",
      "валет Черви\n",
      "дама Черви\n",
      "король Черви\n",
      "туз Черви\n",
      "Stop iteration\n"
     ]
    }
   ],
   "source": [
    "suits = ['Пики', 'Трефы', 'Бубны', 'Черви']\n",
    "values = ['6','7','8','9','10','валет', 'дама','король','туз']\n",
    "b = (x+' '+i for i in suits for x in values) \n",
    "\n",
    "while True:\n",
    "    try:\n",
    "        print(next(b))\n",
    "    except StopIteration:\n",
    "        print('Stop iteration')\n",
    "        break"
   ]
  }
 ],
 "metadata": {
  "kernelspec": {
   "display_name": "Python 3 (ipykernel)",
   "language": "python",
   "name": "python3"
  },
  "language_info": {
   "codemirror_mode": {
    "name": "ipython",
    "version": 3
   },
   "file_extension": ".py",
   "mimetype": "text/x-python",
   "name": "python",
   "nbconvert_exporter": "python",
   "pygments_lexer": "ipython3",
   "version": "3.9.13"
  }
 },
 "nbformat": 4,
 "nbformat_minor": 5
}
