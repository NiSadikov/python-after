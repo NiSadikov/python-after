{
 "cells": [
  {
   "cell_type": "markdown",
   "id": "dcd14fe1",
   "metadata": {},
   "source": [
    "# Задача 1\n",
    "\n",
    "Укажите, какой результат выведет данная программа. Если программа упадет с\n",
    "ошибкой, то в ответ запишите 0."
   ]
  },
  {
   "cell_type": "code",
   "execution_count": 1,
   "id": "5f2c0ac9",
   "metadata": {},
   "outputs": [
    {
     "name": "stdout",
     "output_type": "stream",
     "text": [
      "108\n"
     ]
    }
   ],
   "source": [
    "R = [45,84,10,58]\n",
    "A = R\n",
    "R[0] = 54\n",
    "print(A[0]+R[0])"
   ]
  },
  {
   "cell_type": "markdown",
   "id": "cbc90a4c",
   "metadata": {},
   "source": [
    "# Задача 2\n",
    "\n",
    "Напишите программу, которая считывает 5 чисел, добавляет их в список, а затем\n",
    "создаёт копии этого списка несколькими вариантами:\n",
    "\n",
    "срезом;\n",
    "методом copy;\n",
    "с помощью поверхностного копирования из библиотеки copy;\n",
    "с помощью глубоко уровневого копирования из библиотеки copy;\n",
    "приведением списка к типу список с помощью встроенной функции.\n"
   ]
  },
  {
   "cell_type": "code",
   "execution_count": 16,
   "id": "7c6457b0",
   "metadata": {},
   "outputs": [
    {
     "name": "stdout",
     "output_type": "stream",
     "text": [
      "5\n",
      "6\n",
      "7\n",
      "8\n",
      "9\n",
      "[5, 6, 7, 8, 9]\n",
      "[5, 6, 7, 8, 9]\n",
      "[5, 6, 7, 8, 9]\n",
      "[5, 6, 7, 8, 9]\n",
      "[5, 6, 7, 8, 9]\n",
      "5 35\n"
     ]
    }
   ],
   "source": [
    "import copy\n",
    "\n",
    "lists = [int(input()) for i in range(5)]\n",
    "\n",
    "# Cрезом: \n",
    "a = lists[:]\n",
    "print(a)\n",
    "\n",
    "# Методом copy:\n",
    "b = lists.copy()\n",
    "print(b)\n",
    "\n",
    "#С помощью поверхностного копирования из библиотеки copy: \n",
    "c = copy.copy(lists)\n",
    "print(c)\n",
    "\n",
    "#С помощью глубоко уровневого копирования из библиотеки copy: \n",
    "d = copy.deepcopy(lists)\n",
    "print(d)\n",
    "\n",
    "#Приведением списка к типу список с помощью встроенной функции.\n",
    "f = list(lists)\n",
    "print(f)\n",
    "\n",
    "print(5, sum(lists))"
   ]
  },
  {
   "cell_type": "markdown",
   "id": "dde709de",
   "metadata": {},
   "source": [
    "# Задача 3\n",
    "Укажите, какой результат выведет данная программа. Если программа упадет с\n",
    "ошибкой, то в ответ запишите 0.\n",
    "\n"
   ]
  },
  {
   "cell_type": "code",
   "execution_count": 19,
   "id": "e0e29e5c",
   "metadata": {},
   "outputs": [
    {
     "name": "stdout",
     "output_type": "stream",
     "text": [
      "966\n"
     ]
    }
   ],
   "source": [
    "AR = [[90, 99, 109, 119]] * 4\n",
    "AR[0][0], AR[3][3] = 890,76\n",
    "print(AR[1][0]+AR[2][3])"
   ]
  },
  {
   "cell_type": "markdown",
   "id": "53630c40",
   "metadata": {},
   "source": [
    "# Задача 4\n",
    "\n",
    "У Александра Романовича есть много животных, и он записал всех животных,\n",
    "которые у него есть, в список. Напишите программу, которая превращает список\n",
    "животных ниже в словарь формата a = {\"animal\": количество животных}.\n",
    "\n",
    "В памяти программы должны храниться как и изначальный список, так и конечный словарь. На экран через пробел выведите сначала сумму количеств ссылок на\n",
    "каждую строку типа \"animal\", а затем сумму количеств ссылок на числа 1, 2 и 3."
   ]
  },
  {
   "cell_type": "code",
   "execution_count": 33,
   "id": "05f3dedf",
   "metadata": {},
   "outputs": [
    {
     "name": "stdout",
     "output_type": "stream",
     "text": [
      "29\n",
      "5440\n"
     ]
    }
   ],
   "source": [
    "import sys\n",
    "\n",
    "animals = ['cat', 'cat', 'dog', 'dog', 'bird', 'capybara', 'capybara', 'capybara'] \n",
    "my_dict = {}\n",
    "for x in animals:\n",
    "    if x not in my_dict:\n",
    "        my_dict[x] = 1\n",
    "    else: \n",
    "        my_dict[x] += 1\n",
    "print(sum([sys.getrefcount(x) for x in my_dict]))\n",
    "print(sum([sys.getrefcount(x) for x in range(1,4)]))"
   ]
  },
  {
   "cell_type": "markdown",
   "id": "477ef0fa",
   "metadata": {},
   "source": [
    "# Задача 5 \n",
    "\n",
    "Александр Романович обожает таскать в своём рюкзаке backpack переменные, и\n",
    "ему интересно, какие из переменных являются ссылками на один и тот же объект, а\n",
    "какие являются отдельными объектами. Определите количество пар элементов списка, которые ссылаются на один и тот\n",
    "же объект, и количество пар элементов списка, которые равны между собой. Под\n",
    "парами элементов в этом списке подразумеваются два элемента, стоящие на разных\n",
    "индексах. Пары (backpack[0], backpack[1]) и (backpack[1], backpack[0]) считаются за одинаковую пару. В ответе запишите два искомых значения через пробел."
   ]
  },
  {
   "cell_type": "code",
   "execution_count": 48,
   "id": "c321b8b5",
   "metadata": {
    "scrolled": true
   },
   "outputs": [
    {
     "name": "stdout",
     "output_type": "stream",
     "text": [
      "['capybara', 'capyraba', 'capyba', 'capyba', 'capybara', 2999, 2999, 'capybara', [7, 7, 7], [7, 7, 7], [7, 7, 7], [7, 7, 7], [8, 8], [8, 8], [8, 8], [8, 8], [8, 8]]\n",
      "15 21\n"
     ]
    }
   ],
   "source": [
    "backpack = [\"capybara\", \"capyraba\", \"capyba\", \"capyba\", \"capybara\",\n",
    "2999, 2999, \"capybara\", [7, 7, 7], [7, 7, 7], [7, 7, 7],\n",
    "[7, 7, 7]] + [[8, 8]] * 5\n",
    "print(backpack)\n",
    "k = 0\n",
    "for i in range(len(backpack)):\n",
    "    for j in range(i+1, len(backpack)):\n",
    "        if backpack[i] == backpack[j]:\n",
    "            k += 1\n",
    "s = 0 \n",
    "for x in range(len(backpack)):\n",
    "    for p in range(x+1, len(backpack)):\n",
    "        if backpack[x] is backpack[p]:\n",
    "            s += 1\n",
    "print(s,k)"
   ]
  },
  {
   "cell_type": "markdown",
   "id": "5138d548",
   "metadata": {},
   "source": [
    "# Задача 6 \n",
    "\n",
    "Помогите Александру Романовичу приготовить рекурсивный салат «Цезарь». Салат должен состоять из следующих ингредиентов:\n",
    "• lettuce;\n",
    "• chicken;\n",
    "• cheese;\n",
    "• sauce;\n",
    "• tomatoes;\n",
    "• croutons.\n",
    "Ингредиенты в салат добавляются в такой же очерёдности, как указано в списке\n",
    "выше. Из-за того, что салат рекурсивный, то в последнюю очередь в салат добавляется сам салат «Цезарь». После первой итерации Александр Романович понял, что\n",
    "забыл добавить соль (\"salt\") и перец (\"pepper\") в салат. Добавьте в салат нужные\n",
    "специи, начиная со 2-го обращения к списку. В качестве ответа через пробел запишите, какие ингредиенты лежат на 4-м индексе 127-го обращения и на последнем\n",
    "индексе 2-го обращения рекурсивного салата"
   ]
  },
  {
   "cell_type": "code",
   "execution_count": 33,
   "id": "c7ff94f3",
   "metadata": {},
   "outputs": [
    {
     "name": "stdout",
     "output_type": "stream",
     "text": [
      "tomatoes pepper\n"
     ]
    }
   ],
   "source": [
    "salad = ['lettuce', 'chicken', 'cheese', 'sauce','tomatoes','croutons']\n",
    "salad.append(salad)\n",
    "recursive = salad.copy()\n",
    "salad.append('salt')\n",
    "salad.append('pepper')\n",
    "print(recursive[6][6][6][6][4],recursive[6][6][8])"
   ]
  }
 ],
 "metadata": {
  "kernelspec": {
   "display_name": "Python 3 (ipykernel)",
   "language": "python",
   "name": "python3"
  },
  "language_info": {
   "codemirror_mode": {
    "name": "ipython",
    "version": 3
   },
   "file_extension": ".py",
   "mimetype": "text/x-python",
   "name": "python",
   "nbconvert_exporter": "python",
   "pygments_lexer": "ipython3",
   "version": "3.9.13"
  }
 },
 "nbformat": 4,
 "nbformat_minor": 5
}
