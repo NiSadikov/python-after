{
 "cells": [
  {
   "cell_type": "markdown",
   "id": "35518d82",
   "metadata": {},
   "source": [
    "# Задача 1 \n",
    "\n",
    "Напишите декоратор cache, который кэширует результаты выполнения функции\n",
    "и возвращает сохраненное значение при повторном вызове функции с теми же аргументами. При вызове функции с новыми аргументами декоратор должен пересчитать результат и сохранить его в кэше."
   ]
  },
  {
   "cell_type": "code",
   "execution_count": 1,
   "id": "d9ce4a19",
   "metadata": {},
   "outputs": [],
   "source": [
    "import time \n",
    "\n",
    "def timer(func):\n",
    "    def inside(*args, **kwargs):\n",
    "        st = time.time()\n",
    "        func(*args, **kwargs)\n",
    "        en = time.time()\n",
    "        print(f'Функция выполняалась {en-st} сек.')\n",
    "    return inside\n"
   ]
  },
  {
   "cell_type": "markdown",
   "id": "20378ea0",
   "metadata": {},
   "source": [
    "# Задача 2\n",
    "\n",
    "Напишите декоратор cache, который кэширует результаты выполнения функции\n",
    "и возвращает сохраненное значение при повторном вызове функции с теми же аргументами. При вызове функции с новыми аргументами декоратор должен пересчитать результат и сохранить его в кэше."
   ]
  },
  {
   "cell_type": "code",
   "execution_count": 2,
   "id": "97a0362c",
   "metadata": {},
   "outputs": [
    {
     "name": "stdout",
     "output_type": "stream",
     "text": [
      "573147844013817084101\n"
     ]
    }
   ],
   "source": [
    "def cache(func):\n",
    "    D = {}\n",
    "    def inside(x):\n",
    "        if x not in D:\n",
    "            D[x] = func(x)\n",
    "        return D[x]\n",
    "    return inside\n",
    "\n",
    "@cache\n",
    "def f(x):\n",
    "    if x <= 1: \n",
    "        return 1 \n",
    "    else: \n",
    "        return f(x-1) + f(x-2)\n",
    "    \n",
    "print(f(100))"
   ]
  },
  {
   "cell_type": "markdown",
   "id": "8a1e86cd",
   "metadata": {},
   "source": [
    "# Задача 3 \n",
    "\n",
    "Реализуйте декоратор logging, который будет записывать вызовы функции с аргументами в лог-файл."
   ]
  },
  {
   "cell_type": "code",
   "execution_count": 3,
   "id": "c3721d09",
   "metadata": {},
   "outputs": [],
   "source": [
    "def logging(func):\n",
    "    def inside(*args, **kwargs): \n",
    "        with open('logging.txt','a',encoding='utf-8') as f: \n",
    "            f.write(f'Вызываемая функция: {func.__name__}, вызываемый позиционные аргументы:{args} и именованные: {kwargs} \\n')\n",
    "        return func(*args, **kwargs)\n",
    "    return inside\n",
    "\n",
    "@logging\n",
    "def g(x):\n",
    "    if x <= 1: \n",
    "        return 1 \n",
    "    else: \n",
    "        return g(x-1) + g(x-2)\n"
   ]
  },
  {
   "cell_type": "markdown",
   "id": "77699767",
   "metadata": {},
   "source": [
    "# Задача 4 \n",
    "\n",
    "Создайте декоратор retry, который позволяет повторить выполнение функции,\n",
    "если она вернула None. Декоратор должен автоматически повторить выполнение\n",
    "указанное количество раз с задержкой между попытками."
   ]
  },
  {
   "cell_type": "code",
   "execution_count": 4,
   "id": "24574372",
   "metadata": {},
   "outputs": [
    {
     "name": "stdout",
     "output_type": "stream",
     "text": [
      "Вызов функции...\n",
      "Успешное значение!\n"
     ]
    }
   ],
   "source": [
    "import time\n",
    "import random\n",
    "\n",
    "def retry(num_tries=3, delay=1):\n",
    "    def decorator(func):\n",
    "        def inside(*args, **kwargs):\n",
    "            for _ in range(num_tries):\n",
    "                result = func(*args, **kwargs)\n",
    "                if result is not None:\n",
    "                    return result\n",
    "                time.sleep(delay)\n",
    "            return None\n",
    "        return inside\n",
    "    return decorator\n",
    "\n",
    "@retry(num_tries=5, delay=1)\n",
    "def test_function():\n",
    "    print(\"Вызов функции...\")\n",
    "    if random.choice([True, False]):\n",
    "        return \"Успешное значение!\"\n",
    "    else:\n",
    "        return None\n",
    "\n",
    "result = test_function()\n",
    "print(result)\n"
   ]
  }
 ],
 "metadata": {
  "kernelspec": {
   "display_name": "Python 3 (ipykernel)",
   "language": "python",
   "name": "python3"
  },
  "language_info": {
   "codemirror_mode": {
    "name": "ipython",
    "version": 3
   },
   "file_extension": ".py",
   "mimetype": "text/x-python",
   "name": "python",
   "nbconvert_exporter": "python",
   "pygments_lexer": "ipython3",
   "version": "3.9.13"
  }
 },
 "nbformat": 4,
 "nbformat_minor": 5
}
