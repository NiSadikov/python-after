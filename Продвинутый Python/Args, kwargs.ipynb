{
 "cells": [
  {
   "cell_type": "markdown",
   "id": "124ccf29",
   "metadata": {},
   "source": [
    "# Задача 1\n",
    "Реализуйте функцию sum_numbers, которая принимает любое количество аргументов и возвращает их сумму"
   ]
  },
  {
   "cell_type": "code",
   "execution_count": 1,
   "id": "a47dbada",
   "metadata": {},
   "outputs": [
    {
     "name": "stdout",
     "output_type": "stream",
     "text": [
      "100\n"
     ]
    }
   ],
   "source": [
    "def sum_numbers(*args):\n",
    "    return(sum(args))\n",
    "print(sum_numbers(10,20,30,40))"
   ]
  },
  {
   "cell_type": "markdown",
   "id": "83fd5917",
   "metadata": {},
   "source": [
    "# Задача 2 \n",
    "\n",
    "Реализуйте функцию print_kwargs, которая принимает произвольное количество\n",
    "именованных аргументов и выводит их на экран в формате «ключ: значение»."
   ]
  },
  {
   "cell_type": "code",
   "execution_count": 2,
   "id": "1ae613fd",
   "metadata": {},
   "outputs": [
    {
     "name": "stdout",
     "output_type": "stream",
     "text": [
      "name: Alice\n",
      "age: 25\n",
      "country: USA\n"
     ]
    }
   ],
   "source": [
    "def print_kwargs(**kwargs):\n",
    "    L1 = kwargs.items()\n",
    "    for x in L1:\n",
    "        print(f'{x[0]}: {x[1]}')\n",
    "print_kwargs(name='Alice', age=25, country='USA')"
   ]
  },
  {
   "cell_type": "markdown",
   "id": "7218fd7b",
   "metadata": {},
   "source": [
    "# Задача 3\n",
    "\n",
    "Создайте функцию filter_by_length, которая будет принимать список строк и\n",
    "дополнительный аргумент min_length. Функция должна использовать args для передачи списка строк переменной длины и kwargs для передачи значения min_length.\n",
    "Функция должна вернуть новый список, содержащий только те строки, длина которых больше или равна min_length."
   ]
  },
  {
   "cell_type": "code",
   "execution_count": 3,
   "id": "20963708",
   "metadata": {},
   "outputs": [
    {
     "name": "stdout",
     "output_type": "stream",
     "text": [
      "['hello', 'world']\n"
     ]
    }
   ],
   "source": [
    "strings = [\"hello\", \"world\", \"how\", \"are\", \"you\"]\n",
    "def filter_by_length(min_length,*args):\n",
    "    return [x for x in args if len(x) >= int(min_length)]\n",
    "\n",
    "print(filter_by_length(4, *strings))"
   ]
  },
  {
   "cell_type": "markdown",
   "id": "3b881dfb",
   "metadata": {},
   "source": [
    "# Задача 4 \n",
    "\n",
    "Реализуйте функцию calculate_total_price, которая принимает на вход стоимость товара и произвольное количество ключевых аргументов, где каждый ключ\n",
    "представляет собой тип скидки, а значение — размер скидки в процентах. Функция\n",
    "должна вернуть общую стоимость товара после применения скидок.\n"
   ]
  },
  {
   "cell_type": "code",
   "execution_count": 4,
   "id": "40d491dc",
   "metadata": {},
   "outputs": [
    {
     "name": "stdout",
     "output_type": "stream",
     "text": [
      "70.0\n"
     ]
    }
   ],
   "source": [
    "def calculate_total_price(price, **kwargs):\n",
    "    L1 = kwargs.items()\n",
    "    k = 0\n",
    "    for x in L1: \n",
    "        k += x[1]\n",
    "    return price*(1-k/100)\n",
    "print(calculate_total_price(100, student=10, coupon=20)) "
   ]
  },
  {
   "cell_type": "markdown",
   "id": "9c9ebc8e",
   "metadata": {},
   "source": [
    "# Задача 5 \n",
    "\n",
    "Напишите функцию custom_print, которая будет принимать произвольное количество аргументов args и kwargs и выводить их на экран в формате значение (args)\n",
    "или ключ=значение ( kwargs), разделяя аргументы разделителем. Если передан аргумент sep, он должен использоваться в качестве разделителя между аргументами.\n",
    "Если передан аргумент end, он должен использоваться в качестве символа окончания строки.\n"
   ]
  },
  {
   "cell_type": "code",
   "execution_count": 5,
   "id": "f5b25ba6",
   "metadata": {},
   "outputs": [],
   "source": [
    "def custom_print(*args, **kwargs):\n",
    "    if 'sep' in kwargs:\n",
    "        k = kwargs['sep']\n",
    "        del kwargs['sep']\n",
    "    else: \n",
    "        k = ' '\n",
    "    if 'end' in kwargs:\n",
    "        e = kwargs['end']\n",
    "        del kwargs['end']\n",
    "    else: \n",
    "        e = '\\n'\n",
    "    s = kwargs.items()\n",
    "    l = []\n",
    "    for x in s:\n",
    "        l.append(f'{x[0]}={x[1]}')\n",
    "    print(*args,*l,sep=k,end=e)\n"
   ]
  }
 ],
 "metadata": {
  "kernelspec": {
   "display_name": "Python 3 (ipykernel)",
   "language": "python",
   "name": "python3"
  },
  "language_info": {
   "codemirror_mode": {
    "name": "ipython",
    "version": 3
   },
   "file_extension": ".py",
   "mimetype": "text/x-python",
   "name": "python",
   "nbconvert_exporter": "python",
   "pygments_lexer": "ipython3",
   "version": "3.9.13"
  }
 },
 "nbformat": 4,
 "nbformat_minor": 5
}
