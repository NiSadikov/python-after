{
 "cells": [
  {
   "cell_type": "markdown",
   "id": "b53c23fb",
   "metadata": {},
   "source": [
    "# Задача 1 \n",
    "\n",
    "Что выведет данная программа?"
   ]
  },
  {
   "cell_type": "code",
   "execution_count": 2,
   "id": "39f7932d",
   "metadata": {},
   "outputs": [
    {
     "name": "stdout",
     "output_type": "stream",
     "text": [
      "['Женя', 'Вася']\n"
     ]
    }
   ],
   "source": [
    "D = {'Женя':89,'Вася':100,'Марк':71, 'Мария':79 }\n",
    "f = list(filter(lambda x: D[x] > 80, D))\n",
    "print(f)"
   ]
  },
  {
   "cell_type": "markdown",
   "id": "b9fafbff",
   "metadata": {},
   "source": [
    "# Задача 2 \n",
    "\n",
    "На вход подается массив чисел. Напишите лямбда функцию, которая возводит в\n",
    "куб свой аргумент. Примените функцию для каждого элемента массива и выведите\n",
    "полученный массив. В ответе запишите результат работы программы для массива\n",
    "чисел: [2, 4, 6, 8, 10]"
   ]
  },
  {
   "cell_type": "code",
   "execution_count": 18,
   "id": "fa35fd08",
   "metadata": {},
   "outputs": [
    {
     "name": "stdout",
     "output_type": "stream",
     "text": [
      "2 4 6 8 10\n",
      "[8, 64, 216, 512, 1000]\n"
     ]
    }
   ],
   "source": [
    "number = [int(x) for x in input().split()]\n",
    "print(list(map(lambda x: x**3, number)))"
   ]
  },
  {
   "cell_type": "markdown",
   "id": "11c6eaf8",
   "metadata": {},
   "source": [
    "# Задача 3 \n",
    "\n",
    "На вход подается массив чисел. Напишите лямбда функцию, которая ищет числа\n",
    "меньше нуля. Примените функцию для каждого элемента массива и выведите полученный массив. В ответе запишите результат работы программы для массива чисел:\n",
    "[-1, 4, -7, -8, -10, 1, 0]"
   ]
  },
  {
   "cell_type": "code",
   "execution_count": 20,
   "id": "24a466cd",
   "metadata": {},
   "outputs": [
    {
     "name": "stdout",
     "output_type": "stream",
     "text": [
      "-1 4 -7 -8 -10 1 0\n",
      "[-1, -7, -8, -10]\n"
     ]
    }
   ],
   "source": [
    "number = [int(x) for x in input().split()]\n",
    "print(list(filter(lambda x: x<0, number)))"
   ]
  },
  {
   "cell_type": "markdown",
   "id": "fb9215c9",
   "metadata": {},
   "source": [
    "# Задача 4 \n",
    "\n",
    "Напишите программу, которая находит факториал числа. Для решения данной задачи воспользуйтесь функцией reduce модуля functools и лямбда функцией. В ответе\n",
    "напишите результат работы программы для числа 8."
   ]
  },
  {
   "cell_type": "code",
   "execution_count": 31,
   "id": "182b133a",
   "metadata": {},
   "outputs": [
    {
     "name": "stdout",
     "output_type": "stream",
     "text": [
      "8\n",
      "40320\n"
     ]
    }
   ],
   "source": [
    "from functools import reduce\n",
    "L = [x for x in range(1,int(input())+1) if x > 0]\n",
    "print(reduce(lambda x,y: x*y,L))"
   ]
  },
  {
   "cell_type": "markdown",
   "id": "e906a231",
   "metadata": {},
   "source": [
    "# Задача 5 \n",
    "\n",
    "Напишите программу, которая находит максимальный элемент массива, квадрат\n",
    "которого кратен 9. Для решения задачи воспользуйтесь лямбда функцией. Вы также можете воспользоваться функцией reduce модуля functools. В ответе напишите\n",
    "результат работы программы для массива: 2, 4, 6, 8, 0, 3, 4, 2, 3, 5, 1, 2"
   ]
  },
  {
   "cell_type": "code",
   "execution_count": 40,
   "id": "56f0e6f7",
   "metadata": {},
   "outputs": [
    {
     "name": "stdout",
     "output_type": "stream",
     "text": [
      "2 4 6 8 0 3 4 2 3 5 1 2\n",
      "6\n"
     ]
    }
   ],
   "source": [
    "from functools import reduce\n",
    "\n",
    "number = [int(x) for x in input().split()]\n",
    "fil = list(filter(lambda x: x**2 % 9 == 0, number))\n",
    "\n",
    "if fil:\n",
    "    maximum = reduce(lambda a, b: a if a > b else b, fil)\n",
    "    print(maximum)\n",
    "else:\n",
    "    print(\"Нет чисел, квадрат которых кратен 9.\")"
   ]
  },
  {
   "cell_type": "code",
   "execution_count": null,
   "id": "d23d6a74",
   "metadata": {},
   "outputs": [],
   "source": []
  }
 ],
 "metadata": {
  "kernelspec": {
   "display_name": "Python 3 (ipykernel)",
   "language": "python",
   "name": "python3"
  },
  "language_info": {
   "codemirror_mode": {
    "name": "ipython",
    "version": 3
   },
   "file_extension": ".py",
   "mimetype": "text/x-python",
   "name": "python",
   "nbconvert_exporter": "python",
   "pygments_lexer": "ipython3",
   "version": "3.9.13"
  }
 },
 "nbformat": 4,
 "nbformat_minor": 5
}
